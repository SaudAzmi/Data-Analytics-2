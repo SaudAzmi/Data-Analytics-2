{
 "cells": [
  {
   "cell_type": "markdown",
   "id": "2a9ceb4d",
   "metadata": {},
   "source": [
    "### The Goal of the Script is to perform:\n",
    "Feature Engineering: Feature Handling (Dropping Constant Features)\n",
    "\n",
    "### Approaches covered in the lecture:\n",
    "* Deleting the feature with constant value as **no information** is obtained from these features during training of ML model"
   ]
  },
  {
   "cell_type": "markdown",
   "id": "982cdc6d",
   "metadata": {},
   "source": [
    "### Demo 1: To find out the Constant features and drop the columns from the dataset\n",
    "For this demo, a temporary dataset is prepared comprising of 4 columns and feature \"C\" is constant feature and feature \"D\" is Quasi-Constant feature.\n",
    "\n",
    "1. Constant feature: Feature having Variance as \"0\", i.e., all the value present in the feature is exactly the same.\n",
    "2. Quasi-Constant feature: Feature having Variance as \"0.1\" or \"0.2\". These are the features that are not completely constant but 90% to 80% of the values present in the feature are the same value."
   ]
  },
  {
   "cell_type": "code",
   "execution_count": 112,
   "id": "11a62834",
   "metadata": {},
   "outputs": [],
   "source": [
    "# Import pandas to create DataFrame \n",
    "import pandas as pd \n",
    "  \n",
    "# Make DataFrame for the dummy data\n",
    "data = pd.DataFrame({\"A\":[1,2,4,1,2,4], \n",
    "                    \"B\":[4,5,6,7,8,9], \n",
    "                    \"C\":[0,0,0,0,0,0],\n",
    "                    \"D\":[1,1,1,1,1,0]})"
   ]
  },
  {
   "cell_type": "code",
   "execution_count": 113,
   "id": "eac436a0",
   "metadata": {},
   "outputs": [
    {
     "data": {
      "text/html": [
       "<div>\n",
       "<style scoped>\n",
       "    .dataframe tbody tr th:only-of-type {\n",
       "        vertical-align: middle;\n",
       "    }\n",
       "\n",
       "    .dataframe tbody tr th {\n",
       "        vertical-align: top;\n",
       "    }\n",
       "\n",
       "    .dataframe thead th {\n",
       "        text-align: right;\n",
       "    }\n",
       "</style>\n",
       "<table border=\"1\" class=\"dataframe\">\n",
       "  <thead>\n",
       "    <tr style=\"text-align: right;\">\n",
       "      <th></th>\n",
       "      <th>A</th>\n",
       "      <th>B</th>\n",
       "      <th>C</th>\n",
       "      <th>D</th>\n",
       "    </tr>\n",
       "  </thead>\n",
       "  <tbody>\n",
       "    <tr>\n",
       "      <th>0</th>\n",
       "      <td>1</td>\n",
       "      <td>4</td>\n",
       "      <td>0</td>\n",
       "      <td>1</td>\n",
       "    </tr>\n",
       "    <tr>\n",
       "      <th>1</th>\n",
       "      <td>2</td>\n",
       "      <td>5</td>\n",
       "      <td>0</td>\n",
       "      <td>1</td>\n",
       "    </tr>\n",
       "    <tr>\n",
       "      <th>2</th>\n",
       "      <td>4</td>\n",
       "      <td>6</td>\n",
       "      <td>0</td>\n",
       "      <td>1</td>\n",
       "    </tr>\n",
       "    <tr>\n",
       "      <th>3</th>\n",
       "      <td>1</td>\n",
       "      <td>7</td>\n",
       "      <td>0</td>\n",
       "      <td>1</td>\n",
       "    </tr>\n",
       "    <tr>\n",
       "      <th>4</th>\n",
       "      <td>2</td>\n",
       "      <td>8</td>\n",
       "      <td>0</td>\n",
       "      <td>1</td>\n",
       "    </tr>\n",
       "  </tbody>\n",
       "</table>\n",
       "</div>"
      ],
      "text/plain": [
       "   A  B  C  D\n",
       "0  1  4  0  1\n",
       "1  2  5  0  1\n",
       "2  4  6  0  1\n",
       "3  1  7  0  1\n",
       "4  2  8  0  1"
      ]
     },
     "execution_count": 113,
     "metadata": {},
     "output_type": "execute_result"
    }
   ],
   "source": [
    "# Have a look on the created dataframe with the values\n",
    "data.head()"
   ]
  },
  {
   "cell_type": "markdown",
   "id": "bbd66def",
   "metadata": {},
   "source": [
    "#### Find out the Constant and Quasi-Constant feature using Variance Threshold \n",
    "\n",
    "In the Scikit learn we have a feature selection sub package that allows to check the features that must be considered in training data.\n",
    "\n",
    "Considering a small data frame and apply VarianceThreshold to check if the features present in the dataframe has any variance in it and will that feature contributing for model training. \n",
    "\n",
    "For more about VarianceThreshold please read - https://scikit-learn.org/stable/modules/generated/sklearn.feature_selection.VarianceThreshold.html\n",
    "\n",
    "Lower the Variance value, feature is having same value."
   ]
  },
  {
   "cell_type": "code",
   "execution_count": 114,
   "id": "ff091715",
   "metadata": {},
   "outputs": [
    {
     "data": {
      "text/plain": [
       "VarianceThreshold(threshold=0)"
      ]
     },
     "execution_count": 114,
     "metadata": {},
     "output_type": "execute_result"
    }
   ],
   "source": [
    "# Import the library for Variance Threshold\n",
    "from sklearn.feature_selection import VarianceThreshold\n",
    "\n",
    "# Threshold value is \"0\", i.e., Features having no variance or small value throughout its observation must be find out\n",
    "var_thres=VarianceThreshold(threshold=0)\n",
    "var_thres.fit(data) \n",
    "# Variance Threshold docu - https://scikit-learn.org/stable/modules/generated/sklearn.feature_selection.VarianceThreshold.html?highlight=variancethreshold"
   ]
  },
  {
   "cell_type": "markdown",
   "id": "8e778666",
   "metadata": {},
   "source": [
    "#### get_support\n",
    "\n",
    "An index that selects the retained features from a feature vector. If indices is False, this is a boolean array of shape, in which an element is True iff its corresponding feature is selected for retention."
   ]
  },
  {
   "cell_type": "code",
   "execution_count": 115,
   "id": "44ad77d4",
   "metadata": {},
   "outputs": [
    {
     "data": {
      "text/plain": [
       "array([ True,  True, False,  True])"
      ]
     },
     "execution_count": 115,
     "metadata": {},
     "output_type": "execute_result"
    }
   ],
   "source": [
    "var_thres.get_support() "
   ]
  },
  {
   "cell_type": "markdown",
   "id": "332c343d",
   "metadata": {},
   "source": [
    "**\"True\"** value for the index corresponds to retention of the feature, i.e., the feature is having variance and is not a constant feature.\n",
    "\n",
    "If the value obtained for the feature is **\"False\"**, i.e., the feature is a constant feature and must not be retained."
   ]
  },
  {
   "cell_type": "code",
   "execution_count": 116,
   "id": "23d28946",
   "metadata": {},
   "outputs": [
    {
     "data": {
      "text/plain": [
       "Index(['A', 'B', 'D'], dtype='object')"
      ]
     },
     "execution_count": 116,
     "metadata": {},
     "output_type": "execute_result"
    }
   ],
   "source": [
    "# Features that needs to be retained, i.e., Not a constant feature\n",
    "data.columns[var_thres.get_support()]"
   ]
  },
  {
   "cell_type": "code",
   "execution_count": 117,
   "id": "0ef3b7c0",
   "metadata": {},
   "outputs": [
    {
     "name": "stdout",
     "output_type": "stream",
     "text": [
      "C\n"
     ]
    }
   ],
   "source": [
    "# Detection of the Constant Features\n",
    "constant_columns = [column for column in data.columns\n",
    "                    if column not in data.columns[var_thres.get_support()]]\n",
    "\n",
    "for col in constant_columns:\n",
    "    print(col)"
   ]
  },
  {
   "cell_type": "code",
   "execution_count": 118,
   "id": "b2f8448c",
   "metadata": {},
   "outputs": [
    {
     "data": {
      "text/html": [
       "<div>\n",
       "<style scoped>\n",
       "    .dataframe tbody tr th:only-of-type {\n",
       "        vertical-align: middle;\n",
       "    }\n",
       "\n",
       "    .dataframe tbody tr th {\n",
       "        vertical-align: top;\n",
       "    }\n",
       "\n",
       "    .dataframe thead th {\n",
       "        text-align: right;\n",
       "    }\n",
       "</style>\n",
       "<table border=\"1\" class=\"dataframe\">\n",
       "  <thead>\n",
       "    <tr style=\"text-align: right;\">\n",
       "      <th></th>\n",
       "      <th>A</th>\n",
       "      <th>B</th>\n",
       "      <th>D</th>\n",
       "    </tr>\n",
       "  </thead>\n",
       "  <tbody>\n",
       "    <tr>\n",
       "      <th>0</th>\n",
       "      <td>1</td>\n",
       "      <td>4</td>\n",
       "      <td>1</td>\n",
       "    </tr>\n",
       "    <tr>\n",
       "      <th>1</th>\n",
       "      <td>2</td>\n",
       "      <td>5</td>\n",
       "      <td>1</td>\n",
       "    </tr>\n",
       "    <tr>\n",
       "      <th>2</th>\n",
       "      <td>4</td>\n",
       "      <td>6</td>\n",
       "      <td>1</td>\n",
       "    </tr>\n",
       "    <tr>\n",
       "      <th>3</th>\n",
       "      <td>1</td>\n",
       "      <td>7</td>\n",
       "      <td>1</td>\n",
       "    </tr>\n",
       "    <tr>\n",
       "      <th>4</th>\n",
       "      <td>2</td>\n",
       "      <td>8</td>\n",
       "      <td>1</td>\n",
       "    </tr>\n",
       "    <tr>\n",
       "      <th>5</th>\n",
       "      <td>4</td>\n",
       "      <td>9</td>\n",
       "      <td>0</td>\n",
       "    </tr>\n",
       "  </tbody>\n",
       "</table>\n",
       "</div>"
      ],
      "text/plain": [
       "   A  B  D\n",
       "0  1  4  1\n",
       "1  2  5  1\n",
       "2  4  6  1\n",
       "3  1  7  1\n",
       "4  2  8  1\n",
       "5  4  9  0"
      ]
     },
     "execution_count": 118,
     "metadata": {},
     "output_type": "execute_result"
    }
   ],
   "source": [
    "# Since the constant feature provide no information for model training, therefore,\n",
    "# the constant features are removed before passing it for model training.\n",
    "data.drop(constant_columns,axis=1)"
   ]
  },
  {
   "cell_type": "markdown",
   "id": "2541cfe8",
   "metadata": {},
   "source": [
    "### Demo 2: To find out the Constant features and drop the columns from the larger usecase dataset\n",
    "For this demo, Santander Customer Satisfaction dataset is used to find the Constant and Quasi-Constant features and drop the features before passing them for model training.\n",
    "\n",
    "Dataset Link: https://www.kaggle.com/c/santander-customer-satisfaction/data?select=train.csv\n",
    "\n",
    "An anonymized dataset containing a large number of numeric variables. The \"TARGET\" column is the variable to predict. It equals \"1\" for unsatisfied customers and \"0\" for satisfied customers.\n",
    "\n",
    "The task is to predict the probability of an unsatisfied customer."
   ]
  },
  {
   "cell_type": "code",
   "execution_count": 7,
   "id": "ac18a932",
   "metadata": {},
   "outputs": [],
   "source": [
    "# Import Libraries\n",
    "import pandas as pd\n",
    "from sklearn.feature_selection import VarianceThreshold\n",
    "import matplotlib.pyplot as plt"
   ]
  },
  {
   "cell_type": "code",
   "execution_count": 3,
   "id": "7cfd6f7e",
   "metadata": {},
   "outputs": [
    {
     "data": {
      "text/plain": [
       "(76020, 371)"
      ]
     },
     "execution_count": 3,
     "metadata": {},
     "output_type": "execute_result"
    }
   ],
   "source": [
    "# Import and analyse the dataset\n",
    "df=pd.read_csv('santander_train.csv')#,nrows=1000)\n",
    "df.shape"
   ]
  },
  {
   "cell_type": "markdown",
   "id": "69d982de",
   "metadata": {},
   "source": [
    "We can observe that the dataset is having 76,020 rows and 371 columns."
   ]
  },
  {
   "cell_type": "code",
   "execution_count": 4,
   "id": "ac6daa89",
   "metadata": {},
   "outputs": [
    {
     "data": {
      "text/html": [
       "<div>\n",
       "<style scoped>\n",
       "    .dataframe tbody tr th:only-of-type {\n",
       "        vertical-align: middle;\n",
       "    }\n",
       "\n",
       "    .dataframe tbody tr th {\n",
       "        vertical-align: top;\n",
       "    }\n",
       "\n",
       "    .dataframe thead th {\n",
       "        text-align: right;\n",
       "    }\n",
       "</style>\n",
       "<table border=\"1\" class=\"dataframe\">\n",
       "  <thead>\n",
       "    <tr style=\"text-align: right;\">\n",
       "      <th></th>\n",
       "      <th>ID</th>\n",
       "      <th>var3</th>\n",
       "      <th>var15</th>\n",
       "      <th>imp_ent_var16_ult1</th>\n",
       "      <th>imp_op_var39_comer_ult1</th>\n",
       "      <th>imp_op_var39_comer_ult3</th>\n",
       "      <th>imp_op_var40_comer_ult1</th>\n",
       "      <th>imp_op_var40_comer_ult3</th>\n",
       "      <th>imp_op_var40_efect_ult1</th>\n",
       "      <th>imp_op_var40_efect_ult3</th>\n",
       "      <th>...</th>\n",
       "      <th>saldo_medio_var33_hace2</th>\n",
       "      <th>saldo_medio_var33_hace3</th>\n",
       "      <th>saldo_medio_var33_ult1</th>\n",
       "      <th>saldo_medio_var33_ult3</th>\n",
       "      <th>saldo_medio_var44_hace2</th>\n",
       "      <th>saldo_medio_var44_hace3</th>\n",
       "      <th>saldo_medio_var44_ult1</th>\n",
       "      <th>saldo_medio_var44_ult3</th>\n",
       "      <th>var38</th>\n",
       "      <th>TARGET</th>\n",
       "    </tr>\n",
       "  </thead>\n",
       "  <tbody>\n",
       "    <tr>\n",
       "      <th>0</th>\n",
       "      <td>1</td>\n",
       "      <td>2</td>\n",
       "      <td>23</td>\n",
       "      <td>0.0</td>\n",
       "      <td>0.0</td>\n",
       "      <td>0.0</td>\n",
       "      <td>0.0</td>\n",
       "      <td>0.0</td>\n",
       "      <td>0.0</td>\n",
       "      <td>0.0</td>\n",
       "      <td>...</td>\n",
       "      <td>0.0</td>\n",
       "      <td>0.0</td>\n",
       "      <td>0.0</td>\n",
       "      <td>0.0</td>\n",
       "      <td>0.0</td>\n",
       "      <td>0.0</td>\n",
       "      <td>0.0</td>\n",
       "      <td>0.0</td>\n",
       "      <td>39205.170000</td>\n",
       "      <td>0</td>\n",
       "    </tr>\n",
       "    <tr>\n",
       "      <th>1</th>\n",
       "      <td>3</td>\n",
       "      <td>2</td>\n",
       "      <td>34</td>\n",
       "      <td>0.0</td>\n",
       "      <td>0.0</td>\n",
       "      <td>0.0</td>\n",
       "      <td>0.0</td>\n",
       "      <td>0.0</td>\n",
       "      <td>0.0</td>\n",
       "      <td>0.0</td>\n",
       "      <td>...</td>\n",
       "      <td>0.0</td>\n",
       "      <td>0.0</td>\n",
       "      <td>0.0</td>\n",
       "      <td>0.0</td>\n",
       "      <td>0.0</td>\n",
       "      <td>0.0</td>\n",
       "      <td>0.0</td>\n",
       "      <td>0.0</td>\n",
       "      <td>49278.030000</td>\n",
       "      <td>0</td>\n",
       "    </tr>\n",
       "    <tr>\n",
       "      <th>2</th>\n",
       "      <td>4</td>\n",
       "      <td>2</td>\n",
       "      <td>23</td>\n",
       "      <td>0.0</td>\n",
       "      <td>0.0</td>\n",
       "      <td>0.0</td>\n",
       "      <td>0.0</td>\n",
       "      <td>0.0</td>\n",
       "      <td>0.0</td>\n",
       "      <td>0.0</td>\n",
       "      <td>...</td>\n",
       "      <td>0.0</td>\n",
       "      <td>0.0</td>\n",
       "      <td>0.0</td>\n",
       "      <td>0.0</td>\n",
       "      <td>0.0</td>\n",
       "      <td>0.0</td>\n",
       "      <td>0.0</td>\n",
       "      <td>0.0</td>\n",
       "      <td>67333.770000</td>\n",
       "      <td>0</td>\n",
       "    </tr>\n",
       "    <tr>\n",
       "      <th>3</th>\n",
       "      <td>8</td>\n",
       "      <td>2</td>\n",
       "      <td>37</td>\n",
       "      <td>0.0</td>\n",
       "      <td>195.0</td>\n",
       "      <td>195.0</td>\n",
       "      <td>0.0</td>\n",
       "      <td>0.0</td>\n",
       "      <td>0.0</td>\n",
       "      <td>0.0</td>\n",
       "      <td>...</td>\n",
       "      <td>0.0</td>\n",
       "      <td>0.0</td>\n",
       "      <td>0.0</td>\n",
       "      <td>0.0</td>\n",
       "      <td>0.0</td>\n",
       "      <td>0.0</td>\n",
       "      <td>0.0</td>\n",
       "      <td>0.0</td>\n",
       "      <td>64007.970000</td>\n",
       "      <td>0</td>\n",
       "    </tr>\n",
       "    <tr>\n",
       "      <th>4</th>\n",
       "      <td>10</td>\n",
       "      <td>2</td>\n",
       "      <td>39</td>\n",
       "      <td>0.0</td>\n",
       "      <td>0.0</td>\n",
       "      <td>0.0</td>\n",
       "      <td>0.0</td>\n",
       "      <td>0.0</td>\n",
       "      <td>0.0</td>\n",
       "      <td>0.0</td>\n",
       "      <td>...</td>\n",
       "      <td>0.0</td>\n",
       "      <td>0.0</td>\n",
       "      <td>0.0</td>\n",
       "      <td>0.0</td>\n",
       "      <td>0.0</td>\n",
       "      <td>0.0</td>\n",
       "      <td>0.0</td>\n",
       "      <td>0.0</td>\n",
       "      <td>117310.979016</td>\n",
       "      <td>0</td>\n",
       "    </tr>\n",
       "  </tbody>\n",
       "</table>\n",
       "<p>5 rows × 371 columns</p>\n",
       "</div>"
      ],
      "text/plain": [
       "   ID  var3  var15  imp_ent_var16_ult1  imp_op_var39_comer_ult1  \\\n",
       "0   1     2     23                 0.0                      0.0   \n",
       "1   3     2     34                 0.0                      0.0   \n",
       "2   4     2     23                 0.0                      0.0   \n",
       "3   8     2     37                 0.0                    195.0   \n",
       "4  10     2     39                 0.0                      0.0   \n",
       "\n",
       "   imp_op_var39_comer_ult3  imp_op_var40_comer_ult1  imp_op_var40_comer_ult3  \\\n",
       "0                      0.0                      0.0                      0.0   \n",
       "1                      0.0                      0.0                      0.0   \n",
       "2                      0.0                      0.0                      0.0   \n",
       "3                    195.0                      0.0                      0.0   \n",
       "4                      0.0                      0.0                      0.0   \n",
       "\n",
       "   imp_op_var40_efect_ult1  imp_op_var40_efect_ult3  ...  \\\n",
       "0                      0.0                      0.0  ...   \n",
       "1                      0.0                      0.0  ...   \n",
       "2                      0.0                      0.0  ...   \n",
       "3                      0.0                      0.0  ...   \n",
       "4                      0.0                      0.0  ...   \n",
       "\n",
       "   saldo_medio_var33_hace2  saldo_medio_var33_hace3  saldo_medio_var33_ult1  \\\n",
       "0                      0.0                      0.0                     0.0   \n",
       "1                      0.0                      0.0                     0.0   \n",
       "2                      0.0                      0.0                     0.0   \n",
       "3                      0.0                      0.0                     0.0   \n",
       "4                      0.0                      0.0                     0.0   \n",
       "\n",
       "   saldo_medio_var33_ult3  saldo_medio_var44_hace2  saldo_medio_var44_hace3  \\\n",
       "0                     0.0                      0.0                      0.0   \n",
       "1                     0.0                      0.0                      0.0   \n",
       "2                     0.0                      0.0                      0.0   \n",
       "3                     0.0                      0.0                      0.0   \n",
       "4                     0.0                      0.0                      0.0   \n",
       "\n",
       "   saldo_medio_var44_ult1  saldo_medio_var44_ult3          var38  TARGET  \n",
       "0                     0.0                     0.0   39205.170000       0  \n",
       "1                     0.0                     0.0   49278.030000       0  \n",
       "2                     0.0                     0.0   67333.770000       0  \n",
       "3                     0.0                     0.0   64007.970000       0  \n",
       "4                     0.0                     0.0  117310.979016       0  \n",
       "\n",
       "[5 rows x 371 columns]"
      ]
     },
     "execution_count": 4,
     "metadata": {},
     "output_type": "execute_result"
    }
   ],
   "source": [
    "# Glimpse of the dataset\n",
    "df.head()"
   ]
  },
  {
   "cell_type": "markdown",
   "id": "f13ee192",
   "metadata": {},
   "source": [
    "The predictor or dependent feature is the TARGET feature, i.e., y and train the classification model with the independent features, i.e., X"
   ]
  },
  {
   "cell_type": "code",
   "execution_count": 5,
   "id": "24d8bb18",
   "metadata": {},
   "outputs": [
    {
     "data": {
      "text/plain": [
       "0    73012\n",
       "1     3008\n",
       "Name: TARGET, dtype: int64"
      ]
     },
     "execution_count": 5,
     "metadata": {},
     "output_type": "execute_result"
    }
   ],
   "source": [
    "# Customer counts\n",
    "df.TARGET.value_counts()"
   ]
  },
  {
   "cell_type": "code",
   "execution_count": 8,
   "id": "cc01c1e5",
   "metadata": {},
   "outputs": [
    {
     "data": {
      "text/plain": [
       "Text(0, 0.5, 'Number of Occurances')"
      ]
     },
     "execution_count": 8,
     "metadata": {},
     "output_type": "execute_result"
    },
    {
     "data": {
      "image/png": "[encoded data removed]",
      "text/plain": [
       "<Figure size 432x288 with 1 Axes>"
      ]
     },
     "metadata": {
      "needs_background": "light"
     },
     "output_type": "display_data"
    }
   ],
   "source": [
    "# Plot the distribution of customer distribution\n",
    "LABELS = [\"Satisfied\", \"UnSatisfied\"]\n",
    "count_classes = pd.value_counts(df['TARGET'], sort = True)\n",
    "count_classes.plot(kind = 'bar', rot=0)\n",
    "plt.title(\"Customer Satisfaction class distribution\")\n",
    "plt.xticks(range(2), LABELS)\n",
    "plt.xlabel(\"Class\")\n",
    "plt.ylabel(\"Number of Occurances\")"
   ]
  },
  {
   "cell_type": "markdown",
   "id": "4dd3a252",
   "metadata": {},
   "source": [
    "We can observe that the dataset is highly imbalanced"
   ]
  },
  {
   "cell_type": "markdown",
   "id": "51caabcb",
   "metadata": {},
   "source": [
    "**Data Balancing** needs to be performed"
   ]
  },
  {
   "cell_type": "code",
   "execution_count": 124,
   "id": "da2100a1",
   "metadata": {},
   "outputs": [],
   "source": [
    "# Prepare the dataset for training of a model to classify the Unsatisfied Customer\n",
    "X=df.drop(labels=['TARGET'], axis=1)\n",
    "y=df['TARGET']"
   ]
  },
  {
   "cell_type": "markdown",
   "id": "3388fcbf",
   "metadata": {},
   "source": [
    "From this dataset, create a train and test/validation split. \n",
    "From this data we use 80% of data to train the model and the remaining 20% data for validation purposes."
   ]
  },
  {
   "cell_type": "code",
   "execution_count": 125,
   "id": "964d62f5",
   "metadata": {},
   "outputs": [
    {
     "data": {
      "text/plain": [
       "((60816, 370), (15204, 370))"
      ]
     },
     "execution_count": 125,
     "metadata": {},
     "output_type": "execute_result"
    }
   ],
   "source": [
    "# Split the dataset into training and testing dataset for model training\n",
    "from sklearn.model_selection import train_test_split\n",
    "\n",
    "X_train, X_test, y_train, y_test = train_test_split(\n",
    "    df.drop(labels=['TARGET'], axis=1),\n",
    "    df['TARGET'],\n",
    "    test_size=0.2,\n",
    "    random_state=0)\n",
    "\n",
    "X_train.shape, X_test.shape"
   ]
  },
  {
   "cell_type": "markdown",
   "id": "1756cbd4",
   "metadata": {},
   "source": [
    "#### Balancing with SMOTE Oversampling"
   ]
  },
  {
   "cell_type": "code",
   "execution_count": 126,
   "id": "5a1bae8c",
   "metadata": {},
   "outputs": [],
   "source": [
    "# Perform Oversampling on the training dataset using SMOTE on the minority class (Unsatisfied Customers)\n",
    "from imblearn.over_sampling import SMOTE \n",
    "sm = SMOTE(random_state=12)\n",
    "x_train_res, y_train_res = sm.fit_resample(X_train, y_train)\n",
    "X_train = pd.DataFrame(x_train_res)\n",
    "y_train = pd.DataFrame(y_train_res)"
   ]
  },
  {
   "cell_type": "code",
   "execution_count": 127,
   "id": "4e785993",
   "metadata": {},
   "outputs": [
    {
     "data": {
      "text/plain": [
       "0.0    58442\n",
       "1.0    58442\n",
       "Name: TARGET, dtype: int64"
      ]
     },
     "execution_count": 127,
     "metadata": {},
     "output_type": "execute_result"
    }
   ],
   "source": [
    "# Concatenate the oversampled dataset and observe the class distribution in the sampled data\n",
    "frames = (X_train,y_train)\n",
    "dataset = pd.concat(frames)\n",
    "dataset.TARGET.value_counts()"
   ]
  },
  {
   "cell_type": "code",
   "execution_count": 128,
   "id": "2d6fc273",
   "metadata": {},
   "outputs": [
    {
     "data": {
      "text/plain": [
       "Text(0, 0.5, 'Number of Occurances')"
      ]
     },
     "execution_count": 128,
     "metadata": {},
     "output_type": "execute_result"
    },
    {
     "data": {
      "image/png": "[encoded data removed]",
      "text/plain": [
       "<Figure size 432x288 with 1 Axes>"
      ]
     },
     "metadata": {
      "needs_background": "light"
     },
     "output_type": "display_data"
    }
   ],
   "source": [
    "# Plot the distribution of customer distribution\n",
    "LABELS = [\"Satisfied\", \"UnSatisfied\"]\n",
    "count_classes = pd.value_counts(dataset['TARGET'], sort = True)\n",
    "count_classes.plot(kind = 'bar', rot=0)\n",
    "plt.title(\"Customer Satisfaction class distribution\")\n",
    "plt.xticks(range(2), LABELS)\n",
    "plt.xlabel(\"Class\")\n",
    "plt.ylabel(\"Number of Occurances\")"
   ]
  },
  {
   "cell_type": "markdown",
   "id": "e7a657b1",
   "metadata": {},
   "source": [
    "Here we train the decision tree classifier and calculate the time taken for the training in seconds.\n",
    "\n",
    "**370 independent features are considered for Model training**\n",
    "\n",
    "Decision Tree Classifier is used as an example."
   ]
  },
  {
   "cell_type": "code",
   "execution_count": 129,
   "id": "5b6373b1",
   "metadata": {},
   "outputs": [
    {
     "name": "stdout",
     "output_type": "stream",
     "text": [
      "Time for Training of Decision tree Classifier for 370 feature (in seconds): 3.283407211303711\n"
     ]
    }
   ],
   "source": [
    "# Import the library for model creation and time is used to track the time taken by the ML model to train\n",
    "from sklearn import tree\n",
    "import time\n",
    "\n",
    "# Start noting down the time for ML model training\n",
    "start = time.time()\n",
    "\n",
    "# Train the Decision Tree Classifier\n",
    "clf = tree.DecisionTreeClassifier()\n",
    "clf = clf.fit(X_train, y_train)\n",
    "\n",
    "# End time for ML Model training\n",
    "end = time.time()\n",
    "print(\"Time for Training of Decision tree Classifier for 370 feature (in seconds):\", end - start)"
   ]
  },
  {
   "cell_type": "code",
   "execution_count": 130,
   "id": "a6bce827",
   "metadata": {},
   "outputs": [],
   "source": [
    "# Prediction made by the trained classifier\n",
    "pred = clf.predict(X_test)"
   ]
  },
  {
   "cell_type": "code",
   "execution_count": 131,
   "id": "155c3727",
   "metadata": {},
   "outputs": [
    {
     "name": "stdout",
     "output_type": "stream",
     "text": [
      "------Without removing Constant Feature--------\n",
      "So, Accuracy =  90.95632728229414 %\n",
      "Precision score =  12.462006079027356 %\n",
      "Recall =  19.400630914826497 %\n"
     ]
    }
   ],
   "source": [
    "# Evaluate the mode performance using Accuracy, Precision, Recall, and Confusion Matrix\n",
    "from sklearn.metrics import confusion_matrix, ConfusionMatrixDisplay\n",
    "from sklearn.metrics import recall_score\n",
    "from sklearn.metrics import accuracy_score\n",
    "from sklearn.metrics import precision_score\n",
    "\n",
    "# Visualisation Libraries\n",
    "import matplotlib.pyplot as plt\n",
    "import seaborn as sns\n",
    "\n",
    "# Evaluate the model performance with Accuracy\n",
    "acc = accuracy_score(y_test, pred)\n",
    "\n",
    "# Evaluate the model for Precision Score\n",
    "precision_score = precision_score(y_test, pred)\n",
    "\n",
    "# Evaluate the model for Recall Score\n",
    "recall_score = recall_score(y_test, pred)\n",
    "\n",
    "print(\"------Without removing Constant Feature--------\")\n",
    "print('So, Accuracy = ' , acc * 100, '%')\n",
    "print('Precision score = ', precision_score * 100, '%') \n",
    "print('Recall = ', recall_score * 100, '%')"
   ]
  },
  {
   "cell_type": "code",
   "execution_count": 132,
   "id": "99065f3b",
   "metadata": {},
   "outputs": [
    {
     "name": "stdout",
     "output_type": "stream",
     "text": [
      "[[13706   864]\n",
      " [  511   123]]\n"
     ]
    },
    {
     "data": {
      "image/png": "[encoded data removed]",
      "text/plain": [
       "<Figure size 432x288 with 2 Axes>"
      ]
     },
     "metadata": {
      "needs_background": "light"
     },
     "output_type": "display_data"
    }
   ],
   "source": [
    "# Evaluate the model further using Confusion matrix\n",
    "cf = confusion_matrix(y_test, pred, labels=clf.classes_)\n",
    "print(cf)\n",
    "\n",
    "disp = ConfusionMatrixDisplay(confusion_matrix=cf,\n",
    "                            display_labels=clf.classes_)\n",
    "disp.plot()\n",
    "plt.show()"
   ]
  },
  {
   "cell_type": "markdown",
   "id": "42ecf751",
   "metadata": {},
   "source": [
    "#### Feature Handling: Handling Constant Features and again training the model"
   ]
  },
  {
   "cell_type": "code",
   "execution_count": 133,
   "id": "cf04acd2",
   "metadata": {},
   "outputs": [
    {
     "data": {
      "text/plain": [
       "VarianceThreshold(threshold=0)"
      ]
     },
     "execution_count": 133,
     "metadata": {},
     "output_type": "execute_result"
    }
   ],
   "source": [
    "# Finding out the Constant Features present in the dataset\n",
    "var_thres=VarianceThreshold(threshold=0)\n",
    "var_thres.fit(X_train)"
   ]
  },
  {
   "cell_type": "code",
   "execution_count": 134,
   "id": "b28e279a",
   "metadata": {},
   "outputs": [
    {
     "data": {
      "text/plain": [
       "332"
      ]
     },
     "execution_count": 134,
     "metadata": {},
     "output_type": "execute_result"
    }
   ],
   "source": [
    "# Number of features that have variance not equal to 0, i.e., non-constant features \n",
    "len(X_train.columns[var_thres.get_support()])"
   ]
  },
  {
   "cell_type": "markdown",
   "id": "45cb1c2c",
   "metadata": {},
   "source": [
    "332 is the number of features that have variance in them. \n",
    "Where as there are 38 features which do not have any variance amongs them. so, basically we have 38 constant features."
   ]
  },
  {
   "cell_type": "code",
   "execution_count": 135,
   "id": "c0efca06",
   "metadata": {},
   "outputs": [
    {
     "name": "stdout",
     "output_type": "stream",
     "text": [
      "38\n"
     ]
    }
   ],
   "source": [
    "# List of Constant Features\n",
    "constant_columns = [column for column in X_train.columns\n",
    "                    if column not in X_train.columns[var_thres.get_support()]]\n",
    "print(len(constant_columns))"
   ]
  },
  {
   "cell_type": "markdown",
   "id": "41291774",
   "metadata": {},
   "source": [
    "Let's print the names of such columns."
   ]
  },
  {
   "cell_type": "code",
   "execution_count": 136,
   "id": "ba8fa6fa",
   "metadata": {},
   "outputs": [
    {
     "name": "stdout",
     "output_type": "stream",
     "text": [
      "ind_var2_0\n",
      "ind_var2\n",
      "ind_var27_0\n",
      "ind_var28_0\n",
      "ind_var28\n",
      "ind_var27\n",
      "ind_var41\n",
      "ind_var46_0\n",
      "ind_var46\n",
      "num_var27_0\n",
      "num_var28_0\n",
      "num_var28\n",
      "num_var27\n",
      "num_var41\n",
      "num_var46_0\n",
      "num_var46\n",
      "saldo_var28\n",
      "saldo_var27\n",
      "saldo_var41\n",
      "saldo_var46\n",
      "delta_imp_reemb_var33_1y3\n",
      "delta_num_reemb_var33_1y3\n",
      "imp_amort_var18_hace3\n",
      "imp_amort_var34_hace3\n",
      "imp_reemb_var13_hace3\n",
      "imp_reemb_var33_hace3\n",
      "imp_reemb_var33_ult1\n",
      "imp_trasp_var17_out_hace3\n",
      "imp_trasp_var33_out_hace3\n",
      "num_var2_0_ult1\n",
      "num_var2_ult1\n",
      "num_reemb_var13_hace3\n",
      "num_reemb_var33_hace3\n",
      "num_reemb_var33_ult1\n",
      "num_trasp_var17_out_hace3\n",
      "num_trasp_var33_out_hace3\n",
      "saldo_var2_ult1\n",
      "saldo_medio_var13_medio_hace3\n"
     ]
    }
   ],
   "source": [
    "# Print the names of the Constant columns\n",
    "for column in constant_columns:\n",
    "    print(column)"
   ]
  },
  {
   "cell_type": "code",
   "execution_count": 137,
   "id": "4277256a",
   "metadata": {},
   "outputs": [
    {
     "data": {
      "text/html": [
       "<div>\n",
       "<style scoped>\n",
       "    .dataframe tbody tr th:only-of-type {\n",
       "        vertical-align: middle;\n",
       "    }\n",
       "\n",
       "    .dataframe tbody tr th {\n",
       "        vertical-align: top;\n",
       "    }\n",
       "\n",
       "    .dataframe thead th {\n",
       "        text-align: right;\n",
       "    }\n",
       "</style>\n",
       "<table border=\"1\" class=\"dataframe\">\n",
       "  <thead>\n",
       "    <tr style=\"text-align: right;\">\n",
       "      <th></th>\n",
       "      <th>ID</th>\n",
       "      <th>var3</th>\n",
       "      <th>var15</th>\n",
       "      <th>imp_ent_var16_ult1</th>\n",
       "      <th>imp_op_var39_comer_ult1</th>\n",
       "      <th>imp_op_var39_comer_ult3</th>\n",
       "      <th>imp_op_var40_comer_ult1</th>\n",
       "      <th>imp_op_var40_comer_ult3</th>\n",
       "      <th>imp_op_var40_efect_ult1</th>\n",
       "      <th>imp_op_var40_efect_ult3</th>\n",
       "      <th>...</th>\n",
       "      <th>saldo_medio_var29_ult3</th>\n",
       "      <th>saldo_medio_var33_hace2</th>\n",
       "      <th>saldo_medio_var33_hace3</th>\n",
       "      <th>saldo_medio_var33_ult1</th>\n",
       "      <th>saldo_medio_var33_ult3</th>\n",
       "      <th>saldo_medio_var44_hace2</th>\n",
       "      <th>saldo_medio_var44_hace3</th>\n",
       "      <th>saldo_medio_var44_ult1</th>\n",
       "      <th>saldo_medio_var44_ult3</th>\n",
       "      <th>var38</th>\n",
       "    </tr>\n",
       "  </thead>\n",
       "  <tbody>\n",
       "    <tr>\n",
       "      <th>36443</th>\n",
       "      <td>72815</td>\n",
       "      <td>2</td>\n",
       "      <td>23</td>\n",
       "      <td>0.0</td>\n",
       "      <td>0.00</td>\n",
       "      <td>0.00</td>\n",
       "      <td>0.0</td>\n",
       "      <td>0.0</td>\n",
       "      <td>0.0</td>\n",
       "      <td>0.0</td>\n",
       "      <td>...</td>\n",
       "      <td>0.0</td>\n",
       "      <td>0.0</td>\n",
       "      <td>0.0</td>\n",
       "      <td>0.0</td>\n",
       "      <td>0.0</td>\n",
       "      <td>0.0</td>\n",
       "      <td>0.0</td>\n",
       "      <td>0.0</td>\n",
       "      <td>0.0</td>\n",
       "      <td>94804.740000</td>\n",
       "    </tr>\n",
       "    <tr>\n",
       "      <th>17577</th>\n",
       "      <td>35209</td>\n",
       "      <td>2</td>\n",
       "      <td>23</td>\n",
       "      <td>0.0</td>\n",
       "      <td>0.00</td>\n",
       "      <td>0.00</td>\n",
       "      <td>0.0</td>\n",
       "      <td>0.0</td>\n",
       "      <td>0.0</td>\n",
       "      <td>0.0</td>\n",
       "      <td>...</td>\n",
       "      <td>0.0</td>\n",
       "      <td>0.0</td>\n",
       "      <td>0.0</td>\n",
       "      <td>0.0</td>\n",
       "      <td>0.0</td>\n",
       "      <td>0.0</td>\n",
       "      <td>0.0</td>\n",
       "      <td>0.0</td>\n",
       "      <td>0.0</td>\n",
       "      <td>119861.310000</td>\n",
       "    </tr>\n",
       "    <tr>\n",
       "      <th>28097</th>\n",
       "      <td>56215</td>\n",
       "      <td>2</td>\n",
       "      <td>44</td>\n",
       "      <td>0.0</td>\n",
       "      <td>0.00</td>\n",
       "      <td>0.00</td>\n",
       "      <td>0.0</td>\n",
       "      <td>0.0</td>\n",
       "      <td>0.0</td>\n",
       "      <td>0.0</td>\n",
       "      <td>...</td>\n",
       "      <td>0.0</td>\n",
       "      <td>0.0</td>\n",
       "      <td>0.0</td>\n",
       "      <td>0.0</td>\n",
       "      <td>0.0</td>\n",
       "      <td>0.0</td>\n",
       "      <td>0.0</td>\n",
       "      <td>0.0</td>\n",
       "      <td>0.0</td>\n",
       "      <td>117310.979016</td>\n",
       "    </tr>\n",
       "    <tr>\n",
       "      <th>34967</th>\n",
       "      <td>69919</td>\n",
       "      <td>2</td>\n",
       "      <td>24</td>\n",
       "      <td>0.0</td>\n",
       "      <td>0.00</td>\n",
       "      <td>0.00</td>\n",
       "      <td>0.0</td>\n",
       "      <td>0.0</td>\n",
       "      <td>0.0</td>\n",
       "      <td>0.0</td>\n",
       "      <td>...</td>\n",
       "      <td>0.0</td>\n",
       "      <td>0.0</td>\n",
       "      <td>0.0</td>\n",
       "      <td>0.0</td>\n",
       "      <td>0.0</td>\n",
       "      <td>0.0</td>\n",
       "      <td>0.0</td>\n",
       "      <td>0.0</td>\n",
       "      <td>0.0</td>\n",
       "      <td>51001.260000</td>\n",
       "    </tr>\n",
       "    <tr>\n",
       "      <th>50314</th>\n",
       "      <td>100469</td>\n",
       "      <td>2</td>\n",
       "      <td>80</td>\n",
       "      <td>0.0</td>\n",
       "      <td>0.00</td>\n",
       "      <td>0.00</td>\n",
       "      <td>0.0</td>\n",
       "      <td>0.0</td>\n",
       "      <td>0.0</td>\n",
       "      <td>0.0</td>\n",
       "      <td>...</td>\n",
       "      <td>0.0</td>\n",
       "      <td>0.0</td>\n",
       "      <td>0.0</td>\n",
       "      <td>0.0</td>\n",
       "      <td>0.0</td>\n",
       "      <td>0.0</td>\n",
       "      <td>0.0</td>\n",
       "      <td>0.0</td>\n",
       "      <td>0.0</td>\n",
       "      <td>93676.230000</td>\n",
       "    </tr>\n",
       "    <tr>\n",
       "      <th>...</th>\n",
       "      <td>...</td>\n",
       "      <td>...</td>\n",
       "      <td>...</td>\n",
       "      <td>...</td>\n",
       "      <td>...</td>\n",
       "      <td>...</td>\n",
       "      <td>...</td>\n",
       "      <td>...</td>\n",
       "      <td>...</td>\n",
       "      <td>...</td>\n",
       "      <td>...</td>\n",
       "      <td>...</td>\n",
       "      <td>...</td>\n",
       "      <td>...</td>\n",
       "      <td>...</td>\n",
       "      <td>...</td>\n",
       "      <td>...</td>\n",
       "      <td>...</td>\n",
       "      <td>...</td>\n",
       "      <td>...</td>\n",
       "      <td>...</td>\n",
       "    </tr>\n",
       "    <tr>\n",
       "      <th>32940</th>\n",
       "      <td>65869</td>\n",
       "      <td>2</td>\n",
       "      <td>23</td>\n",
       "      <td>0.0</td>\n",
       "      <td>0.00</td>\n",
       "      <td>0.00</td>\n",
       "      <td>0.0</td>\n",
       "      <td>0.0</td>\n",
       "      <td>0.0</td>\n",
       "      <td>0.0</td>\n",
       "      <td>...</td>\n",
       "      <td>0.0</td>\n",
       "      <td>0.0</td>\n",
       "      <td>0.0</td>\n",
       "      <td>0.0</td>\n",
       "      <td>0.0</td>\n",
       "      <td>0.0</td>\n",
       "      <td>0.0</td>\n",
       "      <td>0.0</td>\n",
       "      <td>0.0</td>\n",
       "      <td>64638.810000</td>\n",
       "    </tr>\n",
       "    <tr>\n",
       "      <th>64577</th>\n",
       "      <td>129029</td>\n",
       "      <td>2</td>\n",
       "      <td>50</td>\n",
       "      <td>0.0</td>\n",
       "      <td>150.21</td>\n",
       "      <td>150.21</td>\n",
       "      <td>0.0</td>\n",
       "      <td>0.0</td>\n",
       "      <td>0.0</td>\n",
       "      <td>0.0</td>\n",
       "      <td>...</td>\n",
       "      <td>0.0</td>\n",
       "      <td>0.0</td>\n",
       "      <td>0.0</td>\n",
       "      <td>0.0</td>\n",
       "      <td>0.0</td>\n",
       "      <td>0.0</td>\n",
       "      <td>0.0</td>\n",
       "      <td>0.0</td>\n",
       "      <td>0.0</td>\n",
       "      <td>117310.979016</td>\n",
       "    </tr>\n",
       "    <tr>\n",
       "      <th>20344</th>\n",
       "      <td>40733</td>\n",
       "      <td>2</td>\n",
       "      <td>32</td>\n",
       "      <td>2250.0</td>\n",
       "      <td>0.00</td>\n",
       "      <td>0.00</td>\n",
       "      <td>0.0</td>\n",
       "      <td>0.0</td>\n",
       "      <td>0.0</td>\n",
       "      <td>0.0</td>\n",
       "      <td>...</td>\n",
       "      <td>0.0</td>\n",
       "      <td>0.0</td>\n",
       "      <td>0.0</td>\n",
       "      <td>0.0</td>\n",
       "      <td>0.0</td>\n",
       "      <td>0.0</td>\n",
       "      <td>0.0</td>\n",
       "      <td>0.0</td>\n",
       "      <td>0.0</td>\n",
       "      <td>24899.100000</td>\n",
       "    </tr>\n",
       "    <tr>\n",
       "      <th>53233</th>\n",
       "      <td>106214</td>\n",
       "      <td>2</td>\n",
       "      <td>37</td>\n",
       "      <td>0.0</td>\n",
       "      <td>62.79</td>\n",
       "      <td>62.79</td>\n",
       "      <td>0.0</td>\n",
       "      <td>0.0</td>\n",
       "      <td>0.0</td>\n",
       "      <td>0.0</td>\n",
       "      <td>...</td>\n",
       "      <td>0.0</td>\n",
       "      <td>0.0</td>\n",
       "      <td>0.0</td>\n",
       "      <td>0.0</td>\n",
       "      <td>0.0</td>\n",
       "      <td>0.0</td>\n",
       "      <td>0.0</td>\n",
       "      <td>0.0</td>\n",
       "      <td>0.0</td>\n",
       "      <td>117310.979016</td>\n",
       "    </tr>\n",
       "    <tr>\n",
       "      <th>27150</th>\n",
       "      <td>54362</td>\n",
       "      <td>2</td>\n",
       "      <td>25</td>\n",
       "      <td>0.0</td>\n",
       "      <td>0.00</td>\n",
       "      <td>0.00</td>\n",
       "      <td>0.0</td>\n",
       "      <td>0.0</td>\n",
       "      <td>0.0</td>\n",
       "      <td>0.0</td>\n",
       "      <td>...</td>\n",
       "      <td>0.0</td>\n",
       "      <td>0.0</td>\n",
       "      <td>0.0</td>\n",
       "      <td>0.0</td>\n",
       "      <td>0.0</td>\n",
       "      <td>0.0</td>\n",
       "      <td>0.0</td>\n",
       "      <td>0.0</td>\n",
       "      <td>0.0</td>\n",
       "      <td>154454.730000</td>\n",
       "    </tr>\n",
       "  </tbody>\n",
       "</table>\n",
       "<p>15204 rows × 332 columns</p>\n",
       "</div>"
      ],
      "text/plain": [
       "           ID  var3  var15  imp_ent_var16_ult1  imp_op_var39_comer_ult1  \\\n",
       "36443   72815     2     23                 0.0                     0.00   \n",
       "17577   35209     2     23                 0.0                     0.00   \n",
       "28097   56215     2     44                 0.0                     0.00   \n",
       "34967   69919     2     24                 0.0                     0.00   \n",
       "50314  100469     2     80                 0.0                     0.00   \n",
       "...       ...   ...    ...                 ...                      ...   \n",
       "32940   65869     2     23                 0.0                     0.00   \n",
       "64577  129029     2     50                 0.0                   150.21   \n",
       "20344   40733     2     32              2250.0                     0.00   \n",
       "53233  106214     2     37                 0.0                    62.79   \n",
       "27150   54362     2     25                 0.0                     0.00   \n",
       "\n",
       "       imp_op_var39_comer_ult3  imp_op_var40_comer_ult1  \\\n",
       "36443                     0.00                      0.0   \n",
       "17577                     0.00                      0.0   \n",
       "28097                     0.00                      0.0   \n",
       "34967                     0.00                      0.0   \n",
       "50314                     0.00                      0.0   \n",
       "...                        ...                      ...   \n",
       "32940                     0.00                      0.0   \n",
       "64577                   150.21                      0.0   \n",
       "20344                     0.00                      0.0   \n",
       "53233                    62.79                      0.0   \n",
       "27150                     0.00                      0.0   \n",
       "\n",
       "       imp_op_var40_comer_ult3  imp_op_var40_efect_ult1  \\\n",
       "36443                      0.0                      0.0   \n",
       "17577                      0.0                      0.0   \n",
       "28097                      0.0                      0.0   \n",
       "34967                      0.0                      0.0   \n",
       "50314                      0.0                      0.0   \n",
       "...                        ...                      ...   \n",
       "32940                      0.0                      0.0   \n",
       "64577                      0.0                      0.0   \n",
       "20344                      0.0                      0.0   \n",
       "53233                      0.0                      0.0   \n",
       "27150                      0.0                      0.0   \n",
       "\n",
       "       imp_op_var40_efect_ult3  ...  saldo_medio_var29_ult3  \\\n",
       "36443                      0.0  ...                     0.0   \n",
       "17577                      0.0  ...                     0.0   \n",
       "28097                      0.0  ...                     0.0   \n",
       "34967                      0.0  ...                     0.0   \n",
       "50314                      0.0  ...                     0.0   \n",
       "...                        ...  ...                     ...   \n",
       "32940                      0.0  ...                     0.0   \n",
       "64577                      0.0  ...                     0.0   \n",
       "20344                      0.0  ...                     0.0   \n",
       "53233                      0.0  ...                     0.0   \n",
       "27150                      0.0  ...                     0.0   \n",
       "\n",
       "       saldo_medio_var33_hace2  saldo_medio_var33_hace3  \\\n",
       "36443                      0.0                      0.0   \n",
       "17577                      0.0                      0.0   \n",
       "28097                      0.0                      0.0   \n",
       "34967                      0.0                      0.0   \n",
       "50314                      0.0                      0.0   \n",
       "...                        ...                      ...   \n",
       "32940                      0.0                      0.0   \n",
       "64577                      0.0                      0.0   \n",
       "20344                      0.0                      0.0   \n",
       "53233                      0.0                      0.0   \n",
       "27150                      0.0                      0.0   \n",
       "\n",
       "       saldo_medio_var33_ult1  saldo_medio_var33_ult3  \\\n",
       "36443                     0.0                     0.0   \n",
       "17577                     0.0                     0.0   \n",
       "28097                     0.0                     0.0   \n",
       "34967                     0.0                     0.0   \n",
       "50314                     0.0                     0.0   \n",
       "...                       ...                     ...   \n",
       "32940                     0.0                     0.0   \n",
       "64577                     0.0                     0.0   \n",
       "20344                     0.0                     0.0   \n",
       "53233                     0.0                     0.0   \n",
       "27150                     0.0                     0.0   \n",
       "\n",
       "       saldo_medio_var44_hace2  saldo_medio_var44_hace3  \\\n",
       "36443                      0.0                      0.0   \n",
       "17577                      0.0                      0.0   \n",
       "28097                      0.0                      0.0   \n",
       "34967                      0.0                      0.0   \n",
       "50314                      0.0                      0.0   \n",
       "...                        ...                      ...   \n",
       "32940                      0.0                      0.0   \n",
       "64577                      0.0                      0.0   \n",
       "20344                      0.0                      0.0   \n",
       "53233                      0.0                      0.0   \n",
       "27150                      0.0                      0.0   \n",
       "\n",
       "       saldo_medio_var44_ult1  saldo_medio_var44_ult3          var38  \n",
       "36443                     0.0                     0.0   94804.740000  \n",
       "17577                     0.0                     0.0  119861.310000  \n",
       "28097                     0.0                     0.0  117310.979016  \n",
       "34967                     0.0                     0.0   51001.260000  \n",
       "50314                     0.0                     0.0   93676.230000  \n",
       "...                       ...                     ...            ...  \n",
       "32940                     0.0                     0.0   64638.810000  \n",
       "64577                     0.0                     0.0  117310.979016  \n",
       "20344                     0.0                     0.0   24899.100000  \n",
       "53233                     0.0                     0.0  117310.979016  \n",
       "27150                     0.0                     0.0  154454.730000  \n",
       "\n",
       "[15204 rows x 332 columns]"
      ]
     },
     "execution_count": 137,
     "metadata": {},
     "output_type": "execute_result"
    }
   ],
   "source": [
    "# Handle the Constant Features by dropping the constant features\n",
    "X_train.drop(constant_columns,axis=1)\n",
    "X_test.drop(constant_columns,axis=1)"
   ]
  },
  {
   "cell_type": "code",
   "execution_count": 138,
   "id": "e71e0479",
   "metadata": {},
   "outputs": [
    {
     "name": "stdout",
     "output_type": "stream",
     "text": [
      "Time for Training of Decision tree Classifier for 370 feature (in seconds): 3.122359037399292\n"
     ]
    }
   ],
   "source": [
    "# Import the library for model creation and time is used to track the time taken by the ML model to train\n",
    "from sklearn import tree\n",
    "import time\n",
    "\n",
    "# Start noting down the time for ML model training\n",
    "start = time.time()\n",
    "\n",
    "# Train the Decision Tree Classifier\n",
    "clf = tree.DecisionTreeClassifier()\n",
    "clf = clf.fit(X_train, y_train)\n",
    "\n",
    "# End time for ML Model training\n",
    "end = time.time()\n",
    "print(\"Time for Training of Decision tree Classifier for 370 feature (in seconds):\", end - start)"
   ]
  },
  {
   "cell_type": "code",
   "execution_count": 139,
   "id": "37507f93",
   "metadata": {},
   "outputs": [],
   "source": [
    "# Prediction made by the trained classifier\n",
    "pred = clf.predict(X_test)"
   ]
  },
  {
   "cell_type": "code",
   "execution_count": 140,
   "id": "ea470066",
   "metadata": {},
   "outputs": [
    {
     "name": "stdout",
     "output_type": "stream",
     "text": [
      "------After Removing Constant Feature--------\n",
      "So, Accuracy =  90.96948171533808 %\n",
      "Precision score =  12.18014329580348 %\n",
      "Recall =  18.769716088328074 %\n"
     ]
    }
   ],
   "source": [
    "# Evaluate the mode performance using Accuracy, Precision, Recall, and Confusion Matrix\n",
    "from sklearn.metrics import confusion_matrix, ConfusionMatrixDisplay\n",
    "from sklearn.metrics import recall_score\n",
    "from sklearn.metrics import accuracy_score\n",
    "from sklearn.metrics import precision_score\n",
    "\n",
    "# Visualisation Libraries\n",
    "import matplotlib.pyplot as plt\n",
    "import seaborn as sns\n",
    "\n",
    "# Evaluate the model performance with Accuracy\n",
    "acc = accuracy_score(y_test, pred)\n",
    "\n",
    "# Evaluate the model for Precision Score\n",
    "precision_score = precision_score(y_test, pred)\n",
    "\n",
    "# Evaluate the model for Recall Score\n",
    "recall_score = recall_score(y_test, pred)\n",
    "\n",
    "print(\"------After Removing Constant Feature--------\")\n",
    "print('So, Accuracy = ' , acc * 100, '%')\n",
    "print('Precision score = ', precision_score * 100, '%') \n",
    "print('Recall = ', recall_score * 100, '%')"
   ]
  },
  {
   "cell_type": "code",
   "execution_count": 141,
   "id": "1cfa7983",
   "metadata": {},
   "outputs": [
    {
     "name": "stdout",
     "output_type": "stream",
     "text": [
      "[[13712   858]\n",
      " [  515   119]]\n"
     ]
    },
    {
     "data": {
      "image/png": "[encoded data removed]",
      "text/plain": [
       "<Figure size 432x288 with 2 Axes>"
      ]
     },
     "metadata": {
      "needs_background": "light"
     },
     "output_type": "display_data"
    }
   ],
   "source": [
    "# Evaluate the model further using Confusion matrix\n",
    "cf = confusion_matrix(y_test, pred, labels=clf.classes_)\n",
    "print(cf)\n",
    "\n",
    "disp = ConfusionMatrixDisplay(confusion_matrix=cf,\n",
    "                            display_labels=clf.classes_)\n",
    "disp.plot()\n",
    "plt.show()"
   ]
  },
  {
   "cell_type": "markdown",
   "id": "13e04705",
   "metadata": {},
   "source": [
    "Conclude:\n",
    "After performing Oversampling, the model is not able to learn different variation in the dataset.\n",
    "Therefore, the accuracy for both the model with constant feature and without constant feature is considerate near 90% but the Precision and Recall shows us that these accuracy cannot be trusted."
   ]
  },
  {
   "cell_type": "markdown",
   "id": "528c1a4d",
   "metadata": {},
   "source": [
    "### InClass Assignment:\n",
    "Try the same exercise with UnderSampling instead of OverSampling and Compare the Model Performance"
   ]
  }
 ],
 "metadata": {
  "kernelspec": {
   "display_name": "Python 3.8.2 64-bit",
   "language": "python",
   "name": "python3"
  },
  "language_info": {
   "codemirror_mode": {
    "name": "ipython",
    "version": 3
   },
   "file_extension": ".py",
   "mimetype": "text/x-python",
   "name": "python",
   "nbconvert_exporter": "python",
   "pygments_lexer": "ipython3",
   "version": "3.8.2"
  },
  "vscode": {
   "interpreter": {
    "hash": "aee8b7b246df8f9039afb4144a1f6fd8d2ca17a180786b69acc140d282b71a49"
   }
  }
 },
 "nbformat": 4,
 "nbformat_minor": 5
}
