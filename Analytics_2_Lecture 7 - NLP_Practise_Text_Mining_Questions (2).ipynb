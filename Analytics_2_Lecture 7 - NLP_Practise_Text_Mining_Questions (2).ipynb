{
  "nbformat": 4,
  "nbformat_minor": 0,
  "metadata": {
    "colab": {
      "name": "Analytics II - NLP Practise Text Mining_Questions.ipynb",
      "provenance": [],
      "toc_visible": true
    },
    "kernelspec": {
      "name": "python3",
      "display_name": "Python 3"
    },
    "language_info": {
      "name": "python"
    }
  },
  "cells": [
    {
      "cell_type": "markdown",
      "metadata": {
        "id": "ZGGoF3dkGvSi"
      },
      "source": [
        "# Analytics II\n",
        "## Natural Language Processing\n",
        "\n",
        "\n",
        "\n",
        "1.   Introduction\n",
        "2.   Working with String\n",
        "3.   Feature Extraction / Representation\n",
        "4.   Feature Expansion\n",
        "5.   Sentiment Analysis\n"
      ]
    },
    {
      "cell_type": "code",
      "metadata": {
        "colab": {
          "base_uri": "https://localhost:8080/",
          "height": 306
        },
        "id": "UVnbx9DdGl6V",
        "outputId": "c733646c-cec2-4a74-aac0-7318164df922"
      },
      "source": [
        "# Amazon_reviews\n",
        "# DataSet: https://nijianmo.github.io/amazon/index.html\n",
        "import pandas as pd\n",
        "\n",
        "amazon_reviews_df = pd.read_json('http://deepyeti.ucsd.edu/jianmo/amazon/categoryFiles/Magazine_Subscriptions.json.gz', compression = 'gzip', lines = True)\n",
        "amazon_reviews_df.head()\n",
        "\n",
        "# reviewerID - ID of the reviewer, e.g. AH2IFH762VY5U\n",
        "# asin - ID of the product, e.g. B00005N7P0\n",
        "# reviewerName - name of the reviewer e.g. ted sedlmayr\t\n",
        "# vote - helpful votes of the review\n",
        "# style - a dictionary of the product metadata, e.g., \"Format\" is \"Hardcover\"\n",
        "# reviewText - text of the review\n",
        "# overall - rating of the product\n",
        "# summary - summary of the review\n",
        "# unixReviewTime - time of the review (unix time)\n",
        "# reviewTime - time of the review (raw)\n",
        "# image - images that users post after they have received the product"
      ],
      "execution_count": null,
      "outputs": [
        {
          "output_type": "execute_result",
          "data": {
            "text/html": [
              "<div>\n",
              "<style scoped>\n",
              "    .dataframe tbody tr th:only-of-type {\n",
              "        vertical-align: middle;\n",
              "    }\n",
              "\n",
              "    .dataframe tbody tr th {\n",
              "        vertical-align: top;\n",
              "    }\n",
              "\n",
              "    .dataframe thead th {\n",
              "        text-align: right;\n",
              "    }\n",
              "</style>\n",
              "<table border=\"1\" class=\"dataframe\">\n",
              "  <thead>\n",
              "    <tr style=\"text-align: right;\">\n",
              "      <th></th>\n",
              "      <th>overall</th>\n",
              "      <th>vote</th>\n",
              "      <th>verified</th>\n",
              "      <th>reviewTime</th>\n",
              "      <th>reviewerID</th>\n",
              "      <th>asin</th>\n",
              "      <th>reviewerName</th>\n",
              "      <th>reviewText</th>\n",
              "      <th>summary</th>\n",
              "      <th>unixReviewTime</th>\n",
              "      <th>style</th>\n",
              "      <th>image</th>\n",
              "    </tr>\n",
              "  </thead>\n",
              "  <tbody>\n",
              "    <tr>\n",
              "      <th>0</th>\n",
              "      <td>5</td>\n",
              "      <td>9</td>\n",
              "      <td>False</td>\n",
              "      <td>11 8, 2001</td>\n",
              "      <td>AH2IFH762VY5U</td>\n",
              "      <td>B00005N7P0</td>\n",
              "      <td>ted sedlmayr</td>\n",
              "      <td>for computer enthusiast, MaxPC is a welcome si...</td>\n",
              "      <td>AVID READER SINCE \"boot\"  WAS THE NAME</td>\n",
              "      <td>1005177600</td>\n",
              "      <td>NaN</td>\n",
              "      <td>NaN</td>\n",
              "    </tr>\n",
              "    <tr>\n",
              "      <th>1</th>\n",
              "      <td>5</td>\n",
              "      <td>9</td>\n",
              "      <td>False</td>\n",
              "      <td>10 31, 2001</td>\n",
              "      <td>AOSFI0JEYU4XM</td>\n",
              "      <td>B00005N7P0</td>\n",
              "      <td>Amazon Customer</td>\n",
              "      <td>Thank god this is not a Ziff Davis publication...</td>\n",
              "      <td>The straight scoop</td>\n",
              "      <td>1004486400</td>\n",
              "      <td>NaN</td>\n",
              "      <td>NaN</td>\n",
              "    </tr>\n",
              "    <tr>\n",
              "      <th>2</th>\n",
              "      <td>3</td>\n",
              "      <td>14</td>\n",
              "      <td>False</td>\n",
              "      <td>03 24, 2007</td>\n",
              "      <td>A3JPFWKS83R49V</td>\n",
              "      <td>B00005N7OJ</td>\n",
              "      <td>Bryan Carey</td>\n",
              "      <td>Antiques Magazine is a publication made for an...</td>\n",
              "      <td>Antiques Magazine is Good, but not for Everyone</td>\n",
              "      <td>1174694400</td>\n",
              "      <td>{'Format:': ' Print Magazine'}</td>\n",
              "      <td>NaN</td>\n",
              "    </tr>\n",
              "    <tr>\n",
              "      <th>3</th>\n",
              "      <td>5</td>\n",
              "      <td>13</td>\n",
              "      <td>False</td>\n",
              "      <td>11 10, 2006</td>\n",
              "      <td>A19FKU6JZQ2ECJ</td>\n",
              "      <td>B00005N7OJ</td>\n",
              "      <td>Patricia L. Porada</td>\n",
              "      <td>This beautiful magazine is in itself a work of...</td>\n",
              "      <td>THE  DISCERNING READER</td>\n",
              "      <td>1163116800</td>\n",
              "      <td>{'Format:': ' Print Magazine'}</td>\n",
              "      <td>NaN</td>\n",
              "    </tr>\n",
              "    <tr>\n",
              "      <th>4</th>\n",
              "      <td>5</td>\n",
              "      <td>NaN</td>\n",
              "      <td>True</td>\n",
              "      <td>07 14, 2014</td>\n",
              "      <td>A25MDGOMZ2GALN</td>\n",
              "      <td>B00005N7P0</td>\n",
              "      <td>Alvey</td>\n",
              "      <td>A great read every issue.</td>\n",
              "      <td>Five Stars</td>\n",
              "      <td>1405296000</td>\n",
              "      <td>NaN</td>\n",
              "      <td>NaN</td>\n",
              "    </tr>\n",
              "  </tbody>\n",
              "</table>\n",
              "</div>"
            ],
            "text/plain": [
              "   overall vote  verified  ... unixReviewTime                           style image\n",
              "0        5    9     False  ...     1005177600                             NaN   NaN\n",
              "1        5    9     False  ...     1004486400                             NaN   NaN\n",
              "2        3   14     False  ...     1174694400  {'Format:': ' Print Magazine'}   NaN\n",
              "3        5   13     False  ...     1163116800  {'Format:': ' Print Magazine'}   NaN\n",
              "4        5  NaN      True  ...     1405296000                             NaN   NaN\n",
              "\n",
              "[5 rows x 12 columns]"
            ]
          },
          "metadata": {
            "tags": []
          },
          "execution_count": 1
        }
      ]
    },
    {
      "cell_type": "markdown",
      "metadata": {
        "id": "dZKRqM56Ibb9"
      },
      "source": [
        "## Question 1\n",
        "\n",
        "- How many observations are in amazon_reviews_df? How many features to we have?\n",
        "- What are the label?\n",
        "- What are the proportions of the label categories? - hint: use \n",
        "\n",
        "```\n",
        "len(DataFrame)\n",
        "```\n",
        "\n",
        "print the answers as string"
      ]
    },
    {
      "cell_type": "markdown",
      "metadata": {
        "id": "ANHVN5lOLDUm"
      },
      "source": [
        "## Question 2\n",
        "\n",
        "- How can we ensure that we have equal proportions of the label category in our data?\n",
        "- How can we convert the label into a positive / negative sentiment score?\n",
        "*italicized text*\n",
        "\n",
        "print the answers as string"
      ]
    },
    {
      "cell_type": "markdown",
      "metadata": {
        "id": "KCCtWimrM9gS"
      },
      "source": [
        "## Question 3\n",
        "\n",
        "- Which index has the longest, which one is the shortest review comment in length? - Use a list comprehension. \n",
        "- Are there more than one with the same count?\n",
        "- Take the longest. How many word tokens does it contain? How many sentences? \\\\\n",
        "Hint: the index is 64738; use the nltk tokenizers"
      ]
    },
    {
      "cell_type": "markdown",
      "metadata": {
        "id": "HMAG4eyWQm7c"
      },
      "source": [
        "## Question 4\n",
        "\n",
        "- What word occurs most often in the longest review? \\\\\n",
        "Hint: use the CountVectorizer\n",
        "\n",
        "```\n",
        "from sklearn.feature_extraction.text import TfidfVectorizer,CountVectorizer\n",
        "```\n",
        "you can transpose dataframes by\n",
        "\n",
        "\n",
        "```\n",
        "data_df.T\n",
        "```\n",
        "and you can select a column then by index, which is an integer.\n",
        "\n",
        "- Filter for stopwords. Does it make sense to do this in the present example? \\\\\n",
        "Hint: Use nltk stopwords \\\\\n",
        "\n",
        "\n",
        "```\n",
        "import nltk\n",
        "nltk.download('stopwords')\n",
        "from nltk.corpus import stopwords\n",
        "STOPWORDS = set(stopwords.words('english'))\n",
        "\n",
        "```\n",
        "The Vectorizer needs a string in a list to work. You can reassemble lists to strings by \n",
        "\n",
        "```\n",
        "processed_string= \" \".join(processed_list)```\n",
        "```\n",
        "- What is the TF-IDF frequency for the most frequent word? Is it a different word than before?"
      ]
    },
    {
      "cell_type": "markdown",
      "metadata": {
        "id": "Ms4ZSGJNUWN1"
      },
      "source": [
        "## Question 5\n",
        "- Parse two dataframes that contain:\n",
        "1. Words from all reviews with either sentiment =0 or =1 \\\\\n",
        "2. Adjectives\n",
        "3. Not stopwords \n",
        "4. Lemmas\n",
        "5. TF-IDF Frequencies \n",
        "\n",
        "Hint: use spacy; for a glossary you can treat ALL reviews as ONE corpus\n",
        "```\n",
        "import spacy\n",
        "nlp = spacy.load(\"en_core_web_sm\")\n",
        "```\n",
        "\n",
        "You check for Adjectives and stopwords in one logic check:\n",
        "\n",
        "```\n",
        "token.pos_ == 'ADJ' and token.is_stop is not True\n",
        "```\n",
        "\n",
        "\n"
      ]
    },
    {
      "cell_type": "markdown",
      "metadata": {
        "id": "NFPIgei3Vepm"
      },
      "source": [
        "## Question 6 (NOT RELEVANT FOR EXAM)\n",
        "\n",
        "- Create a simple classifier and predict the sentiment for the Review with Index 64738"
      ]
    }
  ]
}