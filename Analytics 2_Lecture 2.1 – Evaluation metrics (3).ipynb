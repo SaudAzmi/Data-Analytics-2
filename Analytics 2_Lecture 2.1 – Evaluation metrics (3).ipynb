{
 "cells": [
  {
   "cell_type": "code",
   "execution_count": 1,
   "metadata": {},
   "outputs": [
    {
     "name": "stdout",
     "output_type": "stream",
     "text": [
      "the confusion matrix is - \n",
      "[[5 2]\n",
      " [1 5]]\n"
     ]
    }
   ],
   "source": [
    "actual_data = [1, 1, 0, 1, 0, 0, 1, 0, 0, 0, 1, 0, 1]\n",
    "predicted_data = [0, 1, 1, 1, 0, 0, 1, 0, 1, 0, 1, 0, 1]\n",
    " \n",
    "from sklearn.metrics import confusion_matrix\n",
    " \n",
    "final_results = confusion_matrix(actual_data, predicted_data)\n",
    "print('the confusion matrix is - ')\n",
    "print(final_results)"
   ]
  },
  {
   "cell_type": "code",
   "execution_count": 6,
   "metadata": {},
   "outputs": [
    {
     "name": "stdout",
     "output_type": "stream",
     "text": [
      "the accuracy is - \n",
      "0.7692307692307693\n",
      "76.92307692307693 %\n"
     ]
    }
   ],
   "source": [
    "from sklearn.metrics import accuracy_score\n",
    "accuracy=accuracy_score(actual_data,predicted_data)\n",
    "from sklearn.metrics import classification_report\n",
    "\n",
    " \n",
    "print('the accuracy is - ')\n",
    "\n",
    "print(accuracy)\n",
    "print(accuracy * 100 , '%')"
   ]
  },
  {
   "cell_type": "code",
   "execution_count": 7,
   "metadata": {},
   "outputs": [
    {
     "name": "stdout",
     "output_type": "stream",
     "text": [
      "F1 score: 0.769231\n"
     ]
    }
   ],
   "source": [
    "from sklearn.metrics import f1_score\n",
    "f1 = f1_score(actual_data, predicted_data)\n",
    "print('F1 score: %f' % f1)"
   ]
  }
 ],
 "metadata": {
  "kernelspec": {
   "display_name": "Python 3.8.2 64-bit",
   "language": "python",
   "name": "python3"
  },
  "language_info": {
   "codemirror_mode": {
    "name": "ipython",
    "version": 3
   },
   "file_extension": ".py",
   "mimetype": "text/x-python",
   "name": "python",
   "nbconvert_exporter": "python",
   "pygments_lexer": "ipython3",
   "version": "3.8.2"
  },
  "vscode": {
   "interpreter": {
    "hash": "aee8b7b246df8f9039afb4144a1f6fd8d2ca17a180786b69acc140d282b71a49"
   }
  }
 },
 "nbformat": 4,
 "nbformat_minor": 2
}
