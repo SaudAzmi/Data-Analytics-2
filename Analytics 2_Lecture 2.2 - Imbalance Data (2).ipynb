{
 "cells": [
  {
   "cell_type": "markdown",
   "id": "1635a30a",
   "metadata": {},
   "source": [
    "# Problem Statement \n",
    "\n",
    "Detect frauds and normal transactions in the credit card fraud detection dataset.\n",
    "\n",
    "## Context\n",
    "It is important that credit card companies are able to recognize fraudulent credit card transactions so that customers are not charged for items that they did not purchase.\n",
    "\n",
    "## Content\n",
    "The dataset contains transactions made by credit cards in September 2013 by European cardholders.\n",
    "This dataset presents transactions that occurred in two days, where we have 492 frauds out of 284,807 transactions. The dataset is highly unbalanced, the positive class (frauds) account for 0.172% of all transactions.\n",
    "\n",
    "It contains only numerical input variables which are the result of a PCA transformation. Unfortunately, due to confidentiality issues, we cannot provide the original features and more background information about the data. Features V1, V2, … V28 are the principal components obtained with PCA, the only features which have not been transformed with PCA are 'Time' and 'Amount'. Feature 'Time' contains the seconds elapsed between each transaction and the first transaction in the dataset. The feature 'Amount' is the transaction Amount, this feature can be used for example-dependant cost-sensitive learning. Feature 'Class' is the response variable and it takes value 1 in case of fraud and 0 otherwise.\n",
    "\n",
    "Given the class imbalance ratio, we recommend measuring the accuracy using the Area Under the Precision-Recall Curve (AUPRC). Confusion matrix accuracy is not meaningful for unbalanced classification."
   ]
  },
  {
   "cell_type": "markdown",
   "id": "52b1c933",
   "metadata": {},
   "source": [
    "Nice Read Blog - [Reference Link](https://machinelearningmastery.com/combine-oversampling-and-undersampling-for-imbalanced-classification/)"
   ]
  },
  {
   "cell_type": "code",
   "execution_count": 1,
   "id": "96ade09f",
   "metadata": {},
   "outputs": [],
   "source": [
    "# Import Libraries\n",
    "import pandas as pd\n",
    "import numpy as np\n",
    "\n",
    "# Visualisation Libraries\n",
    "import matplotlib.pyplot as plt\n",
    "import seaborn as sns\n",
    "\n",
    "# Model Training Libraries\n",
    "from sklearn.model_selection import train_test_split\n",
    "from sklearn.ensemble import RandomForestClassifier\n",
    "\n",
    "# Model Evaluation Libraries\n",
    "from sklearn.metrics import confusion_matrix, ConfusionMatrixDisplay\n",
    "from sklearn.metrics import recall_score\n",
    "from sklearn.metrics import accuracy_score\n",
    "%matplotlib inline\n",
    "sns.set(style='whitegrid', palette='muted', font_scale=1.5)\n",
    "\n",
    "# Labels present in the dataset\n",
    "LABELS = [\"Normal\", \"Fraud\"]\n"
   ]
  },
  {
   "cell_type": "code",
   "execution_count": 2,
   "id": "8c979c2d",
   "metadata": {},
   "outputs": [
    {
     "data": {
      "text/html": [
       "<div>\n",
       "<style scoped>\n",
       "    .dataframe tbody tr th:only-of-type {\n",
       "        vertical-align: middle;\n",
       "    }\n",
       "\n",
       "    .dataframe tbody tr th {\n",
       "        vertical-align: top;\n",
       "    }\n",
       "\n",
       "    .dataframe thead th {\n",
       "        text-align: right;\n",
       "    }\n",
       "</style>\n",
       "<table border=\"1\" class=\"dataframe\">\n",
       "  <thead>\n",
       "    <tr style=\"text-align: right;\">\n",
       "      <th></th>\n",
       "      <th>Time</th>\n",
       "      <th>V1</th>\n",
       "      <th>V2</th>\n",
       "      <th>V3</th>\n",
       "      <th>V4</th>\n",
       "      <th>V5</th>\n",
       "      <th>V6</th>\n",
       "      <th>V7</th>\n",
       "      <th>V8</th>\n",
       "      <th>V9</th>\n",
       "      <th>...</th>\n",
       "      <th>V21</th>\n",
       "      <th>V22</th>\n",
       "      <th>V23</th>\n",
       "      <th>V24</th>\n",
       "      <th>V25</th>\n",
       "      <th>V26</th>\n",
       "      <th>V27</th>\n",
       "      <th>V28</th>\n",
       "      <th>Amount</th>\n",
       "      <th>Class</th>\n",
       "    </tr>\n",
       "  </thead>\n",
       "  <tbody>\n",
       "    <tr>\n",
       "      <th>0</th>\n",
       "      <td>0.0</td>\n",
       "      <td>-1.359807</td>\n",
       "      <td>-0.072781</td>\n",
       "      <td>2.536347</td>\n",
       "      <td>1.378155</td>\n",
       "      <td>-0.338321</td>\n",
       "      <td>0.462388</td>\n",
       "      <td>0.239599</td>\n",
       "      <td>0.098698</td>\n",
       "      <td>0.363787</td>\n",
       "      <td>...</td>\n",
       "      <td>-0.018307</td>\n",
       "      <td>0.277838</td>\n",
       "      <td>-0.110474</td>\n",
       "      <td>0.066928</td>\n",
       "      <td>0.128539</td>\n",
       "      <td>-0.189115</td>\n",
       "      <td>0.133558</td>\n",
       "      <td>-0.021053</td>\n",
       "      <td>149.62</td>\n",
       "      <td>0</td>\n",
       "    </tr>\n",
       "    <tr>\n",
       "      <th>1</th>\n",
       "      <td>0.0</td>\n",
       "      <td>1.191857</td>\n",
       "      <td>0.266151</td>\n",
       "      <td>0.166480</td>\n",
       "      <td>0.448154</td>\n",
       "      <td>0.060018</td>\n",
       "      <td>-0.082361</td>\n",
       "      <td>-0.078803</td>\n",
       "      <td>0.085102</td>\n",
       "      <td>-0.255425</td>\n",
       "      <td>...</td>\n",
       "      <td>-0.225775</td>\n",
       "      <td>-0.638672</td>\n",
       "      <td>0.101288</td>\n",
       "      <td>-0.339846</td>\n",
       "      <td>0.167170</td>\n",
       "      <td>0.125895</td>\n",
       "      <td>-0.008983</td>\n",
       "      <td>0.014724</td>\n",
       "      <td>2.69</td>\n",
       "      <td>0</td>\n",
       "    </tr>\n",
       "    <tr>\n",
       "      <th>2</th>\n",
       "      <td>1.0</td>\n",
       "      <td>-1.358354</td>\n",
       "      <td>-1.340163</td>\n",
       "      <td>1.773209</td>\n",
       "      <td>0.379780</td>\n",
       "      <td>-0.503198</td>\n",
       "      <td>1.800499</td>\n",
       "      <td>0.791461</td>\n",
       "      <td>0.247676</td>\n",
       "      <td>-1.514654</td>\n",
       "      <td>...</td>\n",
       "      <td>0.247998</td>\n",
       "      <td>0.771679</td>\n",
       "      <td>0.909412</td>\n",
       "      <td>-0.689281</td>\n",
       "      <td>-0.327642</td>\n",
       "      <td>-0.139097</td>\n",
       "      <td>-0.055353</td>\n",
       "      <td>-0.059752</td>\n",
       "      <td>378.66</td>\n",
       "      <td>0</td>\n",
       "    </tr>\n",
       "    <tr>\n",
       "      <th>3</th>\n",
       "      <td>1.0</td>\n",
       "      <td>-0.966272</td>\n",
       "      <td>-0.185226</td>\n",
       "      <td>1.792993</td>\n",
       "      <td>-0.863291</td>\n",
       "      <td>-0.010309</td>\n",
       "      <td>1.247203</td>\n",
       "      <td>0.237609</td>\n",
       "      <td>0.377436</td>\n",
       "      <td>-1.387024</td>\n",
       "      <td>...</td>\n",
       "      <td>-0.108300</td>\n",
       "      <td>0.005274</td>\n",
       "      <td>-0.190321</td>\n",
       "      <td>-1.175575</td>\n",
       "      <td>0.647376</td>\n",
       "      <td>-0.221929</td>\n",
       "      <td>0.062723</td>\n",
       "      <td>0.061458</td>\n",
       "      <td>123.50</td>\n",
       "      <td>0</td>\n",
       "    </tr>\n",
       "    <tr>\n",
       "      <th>4</th>\n",
       "      <td>2.0</td>\n",
       "      <td>-1.158233</td>\n",
       "      <td>0.877737</td>\n",
       "      <td>1.548718</td>\n",
       "      <td>0.403034</td>\n",
       "      <td>-0.407193</td>\n",
       "      <td>0.095921</td>\n",
       "      <td>0.592941</td>\n",
       "      <td>-0.270533</td>\n",
       "      <td>0.817739</td>\n",
       "      <td>...</td>\n",
       "      <td>-0.009431</td>\n",
       "      <td>0.798278</td>\n",
       "      <td>-0.137458</td>\n",
       "      <td>0.141267</td>\n",
       "      <td>-0.206010</td>\n",
       "      <td>0.502292</td>\n",
       "      <td>0.219422</td>\n",
       "      <td>0.215153</td>\n",
       "      <td>69.99</td>\n",
       "      <td>0</td>\n",
       "    </tr>\n",
       "  </tbody>\n",
       "</table>\n",
       "<p>5 rows × 31 columns</p>\n",
       "</div>"
      ],
      "text/plain": [
       "   Time        V1        V2        V3        V4        V5        V6        V7  \\\n",
       "0   0.0 -1.359807 -0.072781  2.536347  1.378155 -0.338321  0.462388  0.239599   \n",
       "1   0.0  1.191857  0.266151  0.166480  0.448154  0.060018 -0.082361 -0.078803   \n",
       "2   1.0 -1.358354 -1.340163  1.773209  0.379780 -0.503198  1.800499  0.791461   \n",
       "3   1.0 -0.966272 -0.185226  1.792993 -0.863291 -0.010309  1.247203  0.237609   \n",
       "4   2.0 -1.158233  0.877737  1.548718  0.403034 -0.407193  0.095921  0.592941   \n",
       "\n",
       "         V8        V9  ...       V21       V22       V23       V24       V25  \\\n",
       "0  0.098698  0.363787  ... -0.018307  0.277838 -0.110474  0.066928  0.128539   \n",
       "1  0.085102 -0.255425  ... -0.225775 -0.638672  0.101288 -0.339846  0.167170   \n",
       "2  0.247676 -1.514654  ...  0.247998  0.771679  0.909412 -0.689281 -0.327642   \n",
       "3  0.377436 -1.387024  ... -0.108300  0.005274 -0.190321 -1.175575  0.647376   \n",
       "4 -0.270533  0.817739  ... -0.009431  0.798278 -0.137458  0.141267 -0.206010   \n",
       "\n",
       "        V26       V27       V28  Amount  Class  \n",
       "0 -0.189115  0.133558 -0.021053  149.62      0  \n",
       "1  0.125895 -0.008983  0.014724    2.69      0  \n",
       "2 -0.139097 -0.055353 -0.059752  378.66      0  \n",
       "3 -0.221929  0.062723  0.061458  123.50      0  \n",
       "4  0.502292  0.219422  0.215153   69.99      0  \n",
       "\n",
       "[5 rows x 31 columns]"
      ]
     },
     "execution_count": 2,
     "metadata": {},
     "output_type": "execute_result"
    }
   ],
   "source": [
    "# Read the creditcard.csv file contains transactions made by credit cards in September 2013 by European cardholders\n",
    "df = pd.read_csv(\"creditcard.csv\") \n",
    "df.head()"
   ]
  },
  {
   "cell_type": "markdown",
   "id": "16092dd7",
   "metadata": {},
   "source": [
    "## No Balancing Approach \n",
    "Here we use the data as is and make simple predictions of Fraud and Normal transaction by using the Random Forest Classification implementation in Python (Random Forest Classification is a classifier that is used as an example).\n",
    "\n",
    "We start by separating our X and Y, the Y which is the predictor variable is the 'Class' column in the data frame."
   ]
  },
  {
   "cell_type": "code",
   "execution_count": 3,
   "id": "6ca43c26",
   "metadata": {},
   "outputs": [
    {
     "data": {
      "text/plain": [
       "Text(0, 0.5, 'Number of Occurances')"
      ]
     },
     "execution_count": 3,
     "metadata": {},
     "output_type": "execute_result"
    },
    {
     "data": {
      "image/png": "[encoded data removed]",
      "text/plain": [
       "<Figure size 432x288 with 1 Axes>"
      ]
     },
     "metadata": {},
     "output_type": "display_data"
    }
   ],
   "source": [
    "# Plot the distribution of Transactions without balancing the data\n",
    "count_classes = pd.value_counts(df['Class'], sort = True)\n",
    "count_classes.plot(kind = 'bar', rot=0)\n",
    "plt.title(\"Transaction class distribution\")\n",
    "plt.xticks(range(2), LABELS)\n",
    "plt.xlabel(\"Class\")\n",
    "plt.ylabel(\"Number of Occurances\")"
   ]
  },
  {
   "cell_type": "code",
   "execution_count": 4,
   "id": "71f11a1e",
   "metadata": {},
   "outputs": [],
   "source": [
    "Y = df['Class'] # Dependent Feature: This column comprises of two classes \"Fraud\" = Class 1 and \"Normal\" = Class 0 Transactions\n",
    "X = df.drop('Class', axis=1) # Independent Features"
   ]
  },
  {
   "cell_type": "code",
   "execution_count": 5,
   "id": "cc23f7f1",
   "metadata": {},
   "outputs": [],
   "source": [
    "# Split the dataset into train and test split having a ratio of 80:20\n",
    "x_train, x_val, y_train, y_val = train_test_split(X, Y,\n",
    "                                                  test_size = .2,\n",
    "                                                  random_state=12)"
   ]
  },
  {
   "cell_type": "code",
   "execution_count": 6,
   "id": "508afcae",
   "metadata": {},
   "outputs": [
    {
     "data": {
      "text/plain": [
       "RandomForestClassifier()"
      ]
     },
     "execution_count": 6,
     "metadata": {},
     "output_type": "execute_result"
    }
   ],
   "source": [
    "# Train the Random Forest Classifier with the Training data (x_train and y_train)\n",
    "clf_rf_no_sample = RandomForestClassifier()\n",
    "clf_rf_no_sample.fit(x_train, y_train)"
   ]
  },
  {
   "cell_type": "code",
   "execution_count": 7,
   "id": "a1d23789",
   "metadata": {},
   "outputs": [
    {
     "name": "stdout",
     "output_type": "stream",
     "text": [
      "99.96488887328394 %\n"
     ]
    }
   ],
   "source": [
    "# Evaluate the model performance using the Accuracy Metric\n",
    "acc_no_sample = accuracy_score(y_val, clf_rf_no_sample.predict(x_val))\n",
    "print(acc_no_sample*100 , '%')"
   ]
  },
  {
   "cell_type": "markdown",
   "id": "d7e014b0",
   "metadata": {},
   "source": [
    "Accuracy is achieved. \n",
    "As you can see that our model is showing 99.96% accuracy, which is great ! \n",
    "Now, let's dig a little deeper to analyse how the model performed in classification for Fraud and Normal Transaction.\n"
   ]
  },
  {
   "cell_type": "code",
   "execution_count": 8,
   "id": "ea5cfea3",
   "metadata": {},
   "outputs": [
    {
     "name": "stdout",
     "output_type": "stream",
     "text": [
      "[[56866     3]\n",
      " [   17    76]]\n"
     ]
    },
    {
     "data": {
      "image/png": "[encoded data removed]",
      "text/plain": [
       "<Figure size 432x288 with 2 Axes>"
      ]
     },
     "metadata": {},
     "output_type": "display_data"
    }
   ],
   "source": [
    "# Evaluate the model further using Confusion matrix\n",
    "cf_no_sample = confusion_matrix(y_val, clf_rf_no_sample.predict(x_val), labels=clf_rf_no_sample.classes_)\n",
    "print(cf_no_sample)\n",
    "\n",
    "disp = ConfusionMatrixDisplay(confusion_matrix=cf_no_sample,\n",
    "                            display_labels=clf_rf_no_sample.classes_)\n",
    "disp.plot()\n",
    "plt.show()"
   ]
  },
  {
   "cell_type": "markdown",
   "metadata": {},
   "source": [
    "Where Class = 0 is Normal and Class = 1 is Fraud, thus as we are trying to measure how much our model is able to predict Fraud Transaction therefore, we are considering Fraud as our positive and Normal Transaction as our Negative. \n",
    "\n",
    "TN = True Normal Transaction = 56,866\n",
    "\n",
    "TP = True Fraud Transaction = 76\n",
    "\n",
    "FP = False Fraud Transaction = 3\n",
    "\n",
    "FN = False Normal Transaction = 17"
   ]
  },
  {
   "cell_type": "markdown",
   "id": "fb7acc50",
   "metadata": {},
   "source": [
    "Hmm, Let's analyse a bit more. From the confusion matrix we can gather that there is not a lot of predictions of the frauds are not predicted. But the accuracy is 99.96% then what is the issue? The issue is the **Accuracy Paradox**. This happens in case of imbalanced datasets.\n"
   ]
  },
  {
   "cell_type": "code",
   "execution_count": 9,
   "id": "1bd76aa7",
   "metadata": {},
   "outputs": [
    {
     "name": "stdout",
     "output_type": "stream",
     "text": [
      "96.20253164556962 %\n"
     ]
    }
   ],
   "source": [
    "# Evaluate the model for Precision Score\n",
    "from sklearn.metrics import precision_score\n",
    "precision_score_no_sample = precision_score(y_val, clf_rf_no_sample.predict(x_val))\n",
    "print(precision_score_no_sample * 100, '%')"
   ]
  },
  {
   "cell_type": "code",
   "execution_count": 10,
   "id": "adda9ba0",
   "metadata": {},
   "outputs": [
    {
     "name": "stdout",
     "output_type": "stream",
     "text": [
      "81.72043010752688 %\n"
     ]
    }
   ],
   "source": [
    "# Evaluate the mode for Recall Score\n",
    "from sklearn.metrics import recall_score\n",
    "recall_score_no_sample = recall_score(y_val, clf_rf_no_sample.predict(x_val))\n",
    "print(recall_score_no_sample * 100, '%')"
   ]
  },
  {
   "cell_type": "code",
   "execution_count": 11,
   "id": "e91cfcde",
   "metadata": {},
   "outputs": [
    {
     "name": "stdout",
     "output_type": "stream",
     "text": [
      "------No Sampling--------\n",
      "So, Accuracy =  99.96488887328394 %\n",
      "Precision score =  96.20253164556962 %\n",
      "Recall =  81.72043010752688 %\n"
     ]
    }
   ],
   "source": [
    "print(\"------No Sampling--------\")\n",
    "print('So, Accuracy = ' , acc_no_sample * 100, '%')\n",
    "print('Precision score = ', precision_score_no_sample * 100, '%') \n",
    "print('Recall = ', recall_score_no_sample * 100, '%')"
   ]
  },
  {
   "cell_type": "code",
   "execution_count": 16,
   "id": "c044fa6c",
   "metadata": {},
   "outputs": [
    {
     "name": "stdout",
     "output_type": "stream",
     "text": [
      "True Normal Transactions: 56866\n",
      "True Fraud Transactions: 76\n",
      "False Normal Transaction: 17\n",
      "False Fraud Transactions: 3\n",
      "--------------------------------------------------\n",
      "Accuracy: 1.0\n",
      "Mis-Classification: 0.0\n",
      "Sensitivity: 0.82\n",
      "Specificity: 1.0\n",
      "Precision: 0.96\n",
      "f_1 Score: 0.88\n"
     ]
    }
   ],
   "source": [
    "TN = cf_no_sample[0][0]\n",
    "TP = cf_no_sample[1][1]\n",
    "FP = cf_no_sample[0][1]\n",
    "FN = cf_no_sample[1][0]\n",
    "print('True Normal Transactions:', TN)\n",
    "print('True Fraud Transactions:', TP)\n",
    "print('False Normal Transaction:', FN)\n",
    "print('False Fraud Transactions:', FP)\n",
    "\n",
    "# Calculate Accuracy\n",
    "conf_accuracy_no_sample = (float (TP+TN) / float(TP + TN + FP + FN))\n",
    "\n",
    "# Calculate Mis-Classification: What percentage of the values were mis-classified by the model\n",
    "conf_misclassification_no_sample = 1 - conf_accuracy_no_sample\n",
    "\n",
    "# Calculate the Sensitivity or Recall, i.e., Out of Normal transaction predicted by model how many actually resembles the Normal transaction in ground truth\n",
    "conf_sensitivity_no_sample = (TP / float(TP + FN))\n",
    "\n",
    "# Calculate the Specificity or True Negative Rate\n",
    "conf_specificity_no_sample = (TN / float(TN + FP))\n",
    "\n",
    "# Calculate Precision, i.e., How precisely model predicted the normal transactions\n",
    "conf_precision_no_sample = (TP / float(TP + FP))\n",
    "\n",
    "# Calculate f_1 score\n",
    "conf_f1_no_sample = 2 * ((conf_precision_no_sample * conf_sensitivity_no_sample) / (conf_precision_no_sample + conf_sensitivity_no_sample))\n",
    "\n",
    "print('-'*50)\n",
    "print(f'Accuracy: {round(conf_accuracy_no_sample,2)}') \n",
    "print(f'Mis-Classification: {round(conf_misclassification_no_sample,2)}') \n",
    "print(f'Sensitivity: {round(conf_sensitivity_no_sample,2)}') \n",
    "print(f'Specificity: {round(conf_specificity_no_sample,2)}') \n",
    "print(f'Precision: {round(conf_precision_no_sample,2)}')\n",
    "print(f'f_1 Score: {round(conf_f1_no_sample,2)}')"
   ]
  },
  {
   "cell_type": "markdown",
   "id": "fabdac59",
   "metadata": {},
   "source": [
    "## Random Under Sampling Approach \n",
    "Here we use the data but in an under sampling appraoch. \n",
    "We reduce the number of samples for majority class to match the number of samples in the minority class.\n"
   ]
  },
  {
   "cell_type": "code",
   "execution_count": 17,
   "id": "bc4b7399",
   "metadata": {},
   "outputs": [
    {
     "data": {
      "text/plain": [
       "(284315, 31)"
      ]
     },
     "execution_count": 17,
     "metadata": {},
     "output_type": "execute_result"
    }
   ],
   "source": [
    "df[df.Class == 0].shape # Normal Transactions"
   ]
  },
  {
   "cell_type": "code",
   "execution_count": 18,
   "id": "40462c64",
   "metadata": {},
   "outputs": [
    {
     "data": {
      "text/plain": [
       "(492, 31)"
      ]
     },
     "execution_count": 18,
     "metadata": {},
     "output_type": "execute_result"
    }
   ],
   "source": [
    "df[df.Class == 1].shape # Fraud Trnasactions"
   ]
  },
  {
   "cell_type": "code",
   "execution_count": 19,
   "id": "5922a785",
   "metadata": {},
   "outputs": [
    {
     "data": {
      "text/plain": [
       "0    284315\n",
       "1       492\n",
       "Name: Class, dtype: int64"
      ]
     },
     "execution_count": 19,
     "metadata": {},
     "output_type": "execute_result"
    }
   ],
   "source": [
    "# Transactions counts\n",
    "df.Class.value_counts()"
   ]
  },
  {
   "cell_type": "code",
   "execution_count": 20,
   "id": "d1bc3e30",
   "metadata": {},
   "outputs": [
    {
     "data": {
      "text/plain": [
       "Text(0, 0.5, 'Number of Occurances')"
      ]
     },
     "execution_count": 20,
     "metadata": {},
     "output_type": "execute_result"
    },
    {
     "data": {
      "image/png": "[encoded data removed]",
      "text/plain": [
       "<Figure size 432x288 with 1 Axes>"
      ]
     },
     "metadata": {},
     "output_type": "display_data"
    }
   ],
   "source": [
    "# Plot the distribution of Transactions without balancing the data\n",
    "count_classes = pd.value_counts(df['Class'], sort = True)\n",
    "count_classes.plot(kind = 'bar', rot=0)\n",
    "plt.title(\"Transaction class distribution\")\n",
    "plt.xticks(range(2), LABELS)\n",
    "plt.xlabel(\"Class\")\n",
    "plt.ylabel(\"Number of Occurances\")"
   ]
  },
  {
   "cell_type": "code",
   "execution_count": 21,
   "id": "147eb709",
   "metadata": {},
   "outputs": [
    {
     "name": "stdout",
     "output_type": "stream",
     "text": [
      "284315 492\n"
     ]
    }
   ],
   "source": [
    "# Class count\n",
    "count_class_0, count_class_1 = df.Class.value_counts()\n",
    "\n",
    "# Divide classes in two dataframes\n",
    "df_class_0 = df[df['Class'] == 0]\n",
    "df_class_1 = df[df['Class'] == 1]\n",
    "\n",
    "print(count_class_0, count_class_1)"
   ]
  },
  {
   "cell_type": "markdown",
   "id": "3c181bb5",
   "metadata": {},
   "source": [
    "#### Undersampling Approach"
   ]
  },
  {
   "cell_type": "code",
   "execution_count": 22,
   "id": "55c591a1",
   "metadata": {},
   "outputs": [
    {
     "name": "stdout",
     "output_type": "stream",
     "text": [
      "Random under-sampling:\n",
      "0    492\n",
      "1    492\n",
      "Name: Class, dtype: int64\n"
     ]
    }
   ],
   "source": [
    "# Random Undersampling where 492 records from majority class, i.e., class 0 or Normal transactions are selected\n",
    "# to balance the class distribution\n",
    "# 492 records => Same value of Fraud Transactions are present in the dataset\n",
    "df_class_0 = df[df.Class == 0]\n",
    "df_class_0_under = df_class_0.sample(count_class_1)\n",
    "df_test_under = pd.concat([df_class_0_under, df_class_1], axis=0)\n",
    "\n",
    "print('Random under-sampling:')\n",
    "print(df_test_under.Class.value_counts())"
   ]
  },
  {
   "cell_type": "code",
   "execution_count": 23,
   "id": "679267c1",
   "metadata": {},
   "outputs": [
    {
     "data": {
      "text/plain": [
       "<AxesSubplot:title={'center':'Count (target)'}>"
      ]
     },
     "execution_count": 23,
     "metadata": {},
     "output_type": "execute_result"
    },
    {
     "data": {
      "image/png": "[encoded data removed]",
      "text/plain": [
       "<Figure size 432x288 with 1 Axes>"
      ]
     },
     "metadata": {},
     "output_type": "display_data"
    }
   ],
   "source": [
    "# Plot the distribution after performing Under Sampling\n",
    "df_test_under.Class.value_counts().plot(kind='bar', title='Count (target)')"
   ]
  },
  {
   "cell_type": "code",
   "execution_count": 32,
   "id": "0d024d0f",
   "metadata": {},
   "outputs": [
    {
     "data": {
      "text/html": [
       "<div>\n",
       "<style scoped>\n",
       "    .dataframe tbody tr th:only-of-type {\n",
       "        vertical-align: middle;\n",
       "    }\n",
       "\n",
       "    .dataframe tbody tr th {\n",
       "        vertical-align: top;\n",
       "    }\n",
       "\n",
       "    .dataframe thead th {\n",
       "        text-align: right;\n",
       "    }\n",
       "</style>\n",
       "<table border=\"1\" class=\"dataframe\">\n",
       "  <thead>\n",
       "    <tr style=\"text-align: right;\">\n",
       "      <th></th>\n",
       "      <th>Time</th>\n",
       "      <th>V1</th>\n",
       "      <th>V2</th>\n",
       "      <th>V3</th>\n",
       "      <th>V4</th>\n",
       "      <th>V5</th>\n",
       "      <th>V6</th>\n",
       "      <th>V7</th>\n",
       "      <th>V8</th>\n",
       "      <th>V9</th>\n",
       "      <th>...</th>\n",
       "      <th>V21</th>\n",
       "      <th>V22</th>\n",
       "      <th>V23</th>\n",
       "      <th>V24</th>\n",
       "      <th>V25</th>\n",
       "      <th>V26</th>\n",
       "      <th>V27</th>\n",
       "      <th>V28</th>\n",
       "      <th>Amount</th>\n",
       "      <th>Class</th>\n",
       "    </tr>\n",
       "  </thead>\n",
       "  <tbody>\n",
       "    <tr>\n",
       "      <th>37116</th>\n",
       "      <td>38812.0</td>\n",
       "      <td>1.101915</td>\n",
       "      <td>-0.745337</td>\n",
       "      <td>-0.067496</td>\n",
       "      <td>-0.612693</td>\n",
       "      <td>-0.651215</td>\n",
       "      <td>-0.760884</td>\n",
       "      <td>0.033901</td>\n",
       "      <td>-0.280300</td>\n",
       "      <td>-1.228594</td>\n",
       "      <td>...</td>\n",
       "      <td>-0.076844</td>\n",
       "      <td>-0.618586</td>\n",
       "      <td>0.018270</td>\n",
       "      <td>0.086908</td>\n",
       "      <td>0.250005</td>\n",
       "      <td>-0.519135</td>\n",
       "      <td>-0.021994</td>\n",
       "      <td>0.038578</td>\n",
       "      <td>160.00</td>\n",
       "      <td>0</td>\n",
       "    </tr>\n",
       "    <tr>\n",
       "      <th>251410</th>\n",
       "      <td>155338.0</td>\n",
       "      <td>2.168938</td>\n",
       "      <td>-1.134474</td>\n",
       "      <td>-0.963173</td>\n",
       "      <td>-1.242827</td>\n",
       "      <td>-0.523183</td>\n",
       "      <td>0.450947</td>\n",
       "      <td>-1.192127</td>\n",
       "      <td>0.236134</td>\n",
       "      <td>0.070776</td>\n",
       "      <td>...</td>\n",
       "      <td>-0.073298</td>\n",
       "      <td>-0.359216</td>\n",
       "      <td>0.278080</td>\n",
       "      <td>-0.411897</td>\n",
       "      <td>-0.413778</td>\n",
       "      <td>-0.469511</td>\n",
       "      <td>-0.008565</td>\n",
       "      <td>-0.053856</td>\n",
       "      <td>26.95</td>\n",
       "      <td>0</td>\n",
       "    </tr>\n",
       "    <tr>\n",
       "      <th>27162</th>\n",
       "      <td>34417.0</td>\n",
       "      <td>-1.548685</td>\n",
       "      <td>-0.002728</td>\n",
       "      <td>1.029141</td>\n",
       "      <td>0.155532</td>\n",
       "      <td>1.375283</td>\n",
       "      <td>-0.806486</td>\n",
       "      <td>0.848185</td>\n",
       "      <td>-0.270170</td>\n",
       "      <td>-0.603751</td>\n",
       "      <td>...</td>\n",
       "      <td>0.041918</td>\n",
       "      <td>0.199360</td>\n",
       "      <td>-0.447603</td>\n",
       "      <td>-0.383443</td>\n",
       "      <td>0.458914</td>\n",
       "      <td>-0.424931</td>\n",
       "      <td>0.124777</td>\n",
       "      <td>0.053675</td>\n",
       "      <td>129.90</td>\n",
       "      <td>0</td>\n",
       "    </tr>\n",
       "    <tr>\n",
       "      <th>212488</th>\n",
       "      <td>138880.0</td>\n",
       "      <td>1.854913</td>\n",
       "      <td>-0.674926</td>\n",
       "      <td>-0.794425</td>\n",
       "      <td>-0.156048</td>\n",
       "      <td>-0.206845</td>\n",
       "      <td>0.340293</td>\n",
       "      <td>-0.580525</td>\n",
       "      <td>0.119491</td>\n",
       "      <td>0.955014</td>\n",
       "      <td>...</td>\n",
       "      <td>0.272924</td>\n",
       "      <td>0.754234</td>\n",
       "      <td>0.042892</td>\n",
       "      <td>0.189734</td>\n",
       "      <td>-0.173060</td>\n",
       "      <td>0.068389</td>\n",
       "      <td>-0.008135</td>\n",
       "      <td>-0.035494</td>\n",
       "      <td>85.50</td>\n",
       "      <td>0</td>\n",
       "    </tr>\n",
       "    <tr>\n",
       "      <th>40093</th>\n",
       "      <td>40089.0</td>\n",
       "      <td>-0.540361</td>\n",
       "      <td>0.812037</td>\n",
       "      <td>0.650060</td>\n",
       "      <td>0.219368</td>\n",
       "      <td>-0.514130</td>\n",
       "      <td>-0.649262</td>\n",
       "      <td>0.614020</td>\n",
       "      <td>0.329768</td>\n",
       "      <td>-0.635054</td>\n",
       "      <td>...</td>\n",
       "      <td>0.242780</td>\n",
       "      <td>0.457650</td>\n",
       "      <td>0.243101</td>\n",
       "      <td>0.416682</td>\n",
       "      <td>-0.328483</td>\n",
       "      <td>0.298171</td>\n",
       "      <td>-0.126855</td>\n",
       "      <td>-0.025094</td>\n",
       "      <td>94.17</td>\n",
       "      <td>0</td>\n",
       "    </tr>\n",
       "  </tbody>\n",
       "</table>\n",
       "<p>5 rows × 31 columns</p>\n",
       "</div>"
      ],
      "text/plain": [
       "            Time        V1        V2        V3        V4        V5        V6  \\\n",
       "37116    38812.0  1.101915 -0.745337 -0.067496 -0.612693 -0.651215 -0.760884   \n",
       "251410  155338.0  2.168938 -1.134474 -0.963173 -1.242827 -0.523183  0.450947   \n",
       "27162    34417.0 -1.548685 -0.002728  1.029141  0.155532  1.375283 -0.806486   \n",
       "212488  138880.0  1.854913 -0.674926 -0.794425 -0.156048 -0.206845  0.340293   \n",
       "40093    40089.0 -0.540361  0.812037  0.650060  0.219368 -0.514130 -0.649262   \n",
       "\n",
       "              V7        V8        V9  ...       V21       V22       V23  \\\n",
       "37116   0.033901 -0.280300 -1.228594  ... -0.076844 -0.618586  0.018270   \n",
       "251410 -1.192127  0.236134  0.070776  ... -0.073298 -0.359216  0.278080   \n",
       "27162   0.848185 -0.270170 -0.603751  ...  0.041918  0.199360 -0.447603   \n",
       "212488 -0.580525  0.119491  0.955014  ...  0.272924  0.754234  0.042892   \n",
       "40093   0.614020  0.329768 -0.635054  ...  0.242780  0.457650  0.243101   \n",
       "\n",
       "             V24       V25       V26       V27       V28  Amount  Class  \n",
       "37116   0.086908  0.250005 -0.519135 -0.021994  0.038578  160.00      0  \n",
       "251410 -0.411897 -0.413778 -0.469511 -0.008565 -0.053856   26.95      0  \n",
       "27162  -0.383443  0.458914 -0.424931  0.124777  0.053675  129.90      0  \n",
       "212488  0.189734 -0.173060  0.068389 -0.008135 -0.035494   85.50      0  \n",
       "40093   0.416682 -0.328483  0.298171 -0.126855 -0.025094   94.17      0  \n",
       "\n",
       "[5 rows x 31 columns]"
      ]
     },
     "execution_count": 32,
     "metadata": {},
     "output_type": "execute_result"
    }
   ],
   "source": [
    "df_test_under.head()"
   ]
  },
  {
   "cell_type": "markdown",
   "id": "fdf8a765",
   "metadata": {},
   "source": [
    "We can observe that now our dataset are balanced and we can train a Random Forest classifier with the balanced dataset"
   ]
  },
  {
   "cell_type": "code",
   "execution_count": 25,
   "id": "2aeba8a1",
   "metadata": {},
   "outputs": [],
   "source": [
    "Y = df_test_under['Class'] # Dependent Feature: This column comprises of two classes \"Fraud\" = Class 1 and \"Normal\" = Class 0 Transactions\n",
    "X = df_test_under.drop('Class', axis=1) # Independent Features"
   ]
  },
  {
   "cell_type": "code",
   "execution_count": 33,
   "id": "3d745751",
   "metadata": {},
   "outputs": [],
   "source": [
    "# Split the dataset into train and test split having a ratio of 80:20\n",
    "x_train_under, x_val_under, y_train_under, y_val_under = train_test_split(X, Y,\n",
    "                                                  test_size = .2,\n",
    "                                                  random_state=12)"
   ]
  },
  {
   "cell_type": "code",
   "execution_count": 34,
   "id": "c30db983",
   "metadata": {},
   "outputs": [
    {
     "data": {
      "text/plain": [
       "RandomForestClassifier()"
      ]
     },
     "execution_count": 34,
     "metadata": {},
     "output_type": "execute_result"
    }
   ],
   "source": [
    "# Train the Random Forest Classifier with the Training data (x_train and y_train)\n",
    "clf_rf_under_sample = RandomForestClassifier()\n",
    "clf_rf_under_sample.fit(x_train_under, y_train_under)"
   ]
  },
  {
   "cell_type": "code",
   "execution_count": 35,
   "id": "19bfed5c",
   "metadata": {},
   "outputs": [
    {
     "name": "stdout",
     "output_type": "stream",
     "text": [
      "94.9238578680203 %\n"
     ]
    }
   ],
   "source": [
    "# Evaluate the model performance using the Accuracy Metric\n",
    "acc_under_sample = accuracy_score(y_val_under, clf_rf_under_sample.predict(x_val_under))\n",
    "print(acc_under_sample*100 , '%')"
   ]
  },
  {
   "cell_type": "markdown",
   "id": "ed07d749",
   "metadata": {},
   "source": [
    "Accuracy for Under Sampling is less, i.e., 94.92% as compared to Accuracy without Balancing\n",
    "\n",
    "But Let's see if we achieve something more from it. \n",
    "Let's look at confusion matrix."
   ]
  },
  {
   "cell_type": "code",
   "execution_count": 36,
   "id": "d66887b0",
   "metadata": {},
   "outputs": [
    {
     "name": "stdout",
     "output_type": "stream",
     "text": [
      "[[91  2]\n",
      " [ 8 96]]\n"
     ]
    },
    {
     "data": {
      "image/png": "[encoded data removed]",
      "text/plain": [
       "<Figure size 432x288 with 2 Axes>"
      ]
     },
     "metadata": {},
     "output_type": "display_data"
    }
   ],
   "source": [
    "# Evaluate the model further using Confusion matrix\n",
    "cf_under_sample = confusion_matrix(y_val_under, clf_rf_under_sample.predict(x_val_under), labels=clf_rf_under_sample.classes_)\n",
    "print(cf_under_sample)\n",
    "\n",
    "disp = ConfusionMatrixDisplay(confusion_matrix=cf_under_sample,\n",
    "                            display_labels=clf_rf_under_sample.classes_)\n",
    "disp.plot()\n",
    "plt.show()"
   ]
  },
  {
   "cell_type": "markdown",
   "id": "d783c62d",
   "metadata": {},
   "source": [
    "Where Class = 0 is Normal and Class = 1 is Fraud, thus as we are trying to measure how much our model is able to predict Fraud Transaction therefore, we are considering Fraud as our positive and Normal Transaction as our Negative. \n",
    "\n",
    "TN = True Normal Transaction = 92\n",
    "\n",
    "TP = True Fraud Transaction = 95\n",
    "\n",
    "FP = False Fraud Transaction = 1\n",
    "\n",
    "FN = False Normal Transaction = 9"
   ]
  },
  {
   "cell_type": "markdown",
   "id": "e831ad0e",
   "metadata": {},
   "source": [
    "Let's analyse a bit more. From the confusion matrix we can gather that there is a considerable amount of predictions of the frauds and normal transaction.\n"
   ]
  },
  {
   "cell_type": "code",
   "execution_count": 41,
   "id": "95d17cbf",
   "metadata": {},
   "outputs": [
    {
     "name": "stdout",
     "output_type": "stream",
     "text": [
      "97.95918367346938 %\n"
     ]
    }
   ],
   "source": [
    "# Evaluate the model for Precision Score\n",
    "from sklearn.metrics import precision_score\n",
    "precision_score_under_sample = precision_score(y_val_under, clf_rf_under_sample.predict(x_val_under))\n",
    "print(precision_score_under_sample * 100, '%')"
   ]
  },
  {
   "cell_type": "code",
   "execution_count": 42,
   "id": "b8c36ce5",
   "metadata": {},
   "outputs": [
    {
     "name": "stdout",
     "output_type": "stream",
     "text": [
      "97.84946236559139 %\n"
     ]
    }
   ],
   "source": [
    "# Evaluate the model for Recall Score\n",
    "from sklearn.metrics import recall_score\n",
    "recall_score_under_sample = recall_score(y_val, clf_rf_under_sample.predict(x_val))\n",
    "print(recall_score_under_sample * 100, '%')"
   ]
  },
  {
   "cell_type": "code",
   "execution_count": 43,
   "id": "abaa0915",
   "metadata": {},
   "outputs": [
    {
     "name": "stdout",
     "output_type": "stream",
     "text": [
      "------Under Sampling--------\n",
      "So, Accuracy =  94.9238578680203 %\n",
      "Precision score =  97.95918367346938 %\n",
      "Recall =  97.84946236559139 %\n"
     ]
    }
   ],
   "source": [
    "print(\"------Under Sampling--------\")\n",
    "print('So, Accuracy = ' , acc_under_sample * 100, '%')\n",
    "print('Precision score = ', precision_score_under_sample * 100, '%') \n",
    "print('Recall = ', recall_score_under_sample * 100, '%')"
   ]
  },
  {
   "cell_type": "code",
   "execution_count": 44,
   "id": "bfd8c936",
   "metadata": {},
   "outputs": [
    {
     "name": "stdout",
     "output_type": "stream",
     "text": [
      "True Normal Transactions: 91\n",
      "True Fraud Transactions: 96\n",
      "False Normal Transaction: 8\n",
      "False Fraud Transactions: 2\n",
      "--------------------------------------------------\n",
      "Accuracy: 0.95\n",
      "Mis-Classification: 0.05\n",
      "Sensitivity: 0.92\n",
      "Specificity: 0.98\n",
      "Precision: 0.98\n",
      "f_1 Score: 0.95\n"
     ]
    }
   ],
   "source": [
    "TN = cf_under_sample[0][0]\n",
    "TP = cf_under_sample[1][1]\n",
    "FP = cf_under_sample[0][1]\n",
    "FN = cf_under_sample[1][0]\n",
    "print('True Normal Transactions:', TN)\n",
    "print('True Fraud Transactions:', TP)\n",
    "print('False Normal Transaction:', FN)\n",
    "print('False Fraud Transactions:', FP)\n",
    "\n",
    "# Calculate Accuracy\n",
    "conf_accuracy_under_sample = (float (TP+TN) / float(TP + TN + FP + FN))\n",
    "\n",
    "# Calculate Mis-Classification: What percentage of the values were mis-classified by the model\n",
    "conf_misclassification_under_sample = 1 - conf_accuracy_under_sample\n",
    "\n",
    "# Calculate the Sensitivity or Recall, i.e., Out of Normal transaction predicted by model how many actually resembles the Normal transaction in ground truth\n",
    "conf_sensitivity_under_sample = (TP / float(TP + FN))\n",
    "\n",
    "# Calculate the Specificity or True Negative Rate\n",
    "conf_specificity_under_sample = (TN / float(TN + FP))\n",
    "\n",
    "# Calculate Precision, i.e., How precisely model predicted the normal transactions\n",
    "conf_precision_under_sample = (TP / float(TP + FP))\n",
    "\n",
    "# Calculate f_1 score\n",
    "conf_f1_under_sample = 2 * ((conf_precision_under_sample * conf_sensitivity_under_sample) / (conf_precision_under_sample + conf_sensitivity_under_sample))\n",
    "\n",
    "print('-'*50)\n",
    "print(f'Accuracy: {round(conf_accuracy_under_sample,2)}') \n",
    "print(f'Mis-Classification: {round(conf_misclassification_under_sample,2)}') \n",
    "print(f'Sensitivity: {round(conf_sensitivity_under_sample,2)}') \n",
    "print(f'Specificity: {round(conf_specificity_under_sample,2)}') \n",
    "print(f'Precision: {round(conf_precision_under_sample,2)}')\n",
    "print(f'f_1 Score: {round(conf_f1_under_sample,2)}')"
   ]
  },
  {
   "cell_type": "markdown",
   "id": "a4c1b568",
   "metadata": {},
   "source": [
    "### To Conclude the performance: Under Sampling Approach > No Balancing\n"
   ]
  },
  {
   "cell_type": "markdown",
   "id": "bfcef81b",
   "metadata": {},
   "source": [
    "## Oversampling Approach using SMOTE\n",
    "Now, We apply SMOTE on the minority class and we observe the changes that occur in the final predictions."
   ]
  },
  {
   "cell_type": "code",
   "execution_count": 289,
   "id": "630c932d",
   "metadata": {},
   "outputs": [
    {
     "data": {
      "text/html": [
       "<div>\n",
       "<style scoped>\n",
       "    .dataframe tbody tr th:only-of-type {\n",
       "        vertical-align: middle;\n",
       "    }\n",
       "\n",
       "    .dataframe tbody tr th {\n",
       "        vertical-align: top;\n",
       "    }\n",
       "\n",
       "    .dataframe thead th {\n",
       "        text-align: right;\n",
       "    }\n",
       "</style>\n",
       "<table border=\"1\" class=\"dataframe\">\n",
       "  <thead>\n",
       "    <tr style=\"text-align: right;\">\n",
       "      <th></th>\n",
       "      <th>Time</th>\n",
       "      <th>V1</th>\n",
       "      <th>V2</th>\n",
       "      <th>V3</th>\n",
       "      <th>V4</th>\n",
       "      <th>V5</th>\n",
       "      <th>V6</th>\n",
       "      <th>V7</th>\n",
       "      <th>V8</th>\n",
       "      <th>V9</th>\n",
       "      <th>...</th>\n",
       "      <th>V21</th>\n",
       "      <th>V22</th>\n",
       "      <th>V23</th>\n",
       "      <th>V24</th>\n",
       "      <th>V25</th>\n",
       "      <th>V26</th>\n",
       "      <th>V27</th>\n",
       "      <th>V28</th>\n",
       "      <th>Amount</th>\n",
       "      <th>Class</th>\n",
       "    </tr>\n",
       "  </thead>\n",
       "  <tbody>\n",
       "    <tr>\n",
       "      <th>0</th>\n",
       "      <td>0.0</td>\n",
       "      <td>-1.359807</td>\n",
       "      <td>-0.072781</td>\n",
       "      <td>2.536347</td>\n",
       "      <td>1.378155</td>\n",
       "      <td>-0.338321</td>\n",
       "      <td>0.462388</td>\n",
       "      <td>0.239599</td>\n",
       "      <td>0.098698</td>\n",
       "      <td>0.363787</td>\n",
       "      <td>...</td>\n",
       "      <td>-0.018307</td>\n",
       "      <td>0.277838</td>\n",
       "      <td>-0.110474</td>\n",
       "      <td>0.066928</td>\n",
       "      <td>0.128539</td>\n",
       "      <td>-0.189115</td>\n",
       "      <td>0.133558</td>\n",
       "      <td>-0.021053</td>\n",
       "      <td>149.62</td>\n",
       "      <td>0</td>\n",
       "    </tr>\n",
       "    <tr>\n",
       "      <th>1</th>\n",
       "      <td>0.0</td>\n",
       "      <td>1.191857</td>\n",
       "      <td>0.266151</td>\n",
       "      <td>0.166480</td>\n",
       "      <td>0.448154</td>\n",
       "      <td>0.060018</td>\n",
       "      <td>-0.082361</td>\n",
       "      <td>-0.078803</td>\n",
       "      <td>0.085102</td>\n",
       "      <td>-0.255425</td>\n",
       "      <td>...</td>\n",
       "      <td>-0.225775</td>\n",
       "      <td>-0.638672</td>\n",
       "      <td>0.101288</td>\n",
       "      <td>-0.339846</td>\n",
       "      <td>0.167170</td>\n",
       "      <td>0.125895</td>\n",
       "      <td>-0.008983</td>\n",
       "      <td>0.014724</td>\n",
       "      <td>2.69</td>\n",
       "      <td>0</td>\n",
       "    </tr>\n",
       "    <tr>\n",
       "      <th>2</th>\n",
       "      <td>1.0</td>\n",
       "      <td>-1.358354</td>\n",
       "      <td>-1.340163</td>\n",
       "      <td>1.773209</td>\n",
       "      <td>0.379780</td>\n",
       "      <td>-0.503198</td>\n",
       "      <td>1.800499</td>\n",
       "      <td>0.791461</td>\n",
       "      <td>0.247676</td>\n",
       "      <td>-1.514654</td>\n",
       "      <td>...</td>\n",
       "      <td>0.247998</td>\n",
       "      <td>0.771679</td>\n",
       "      <td>0.909412</td>\n",
       "      <td>-0.689281</td>\n",
       "      <td>-0.327642</td>\n",
       "      <td>-0.139097</td>\n",
       "      <td>-0.055353</td>\n",
       "      <td>-0.059752</td>\n",
       "      <td>378.66</td>\n",
       "      <td>0</td>\n",
       "    </tr>\n",
       "    <tr>\n",
       "      <th>3</th>\n",
       "      <td>1.0</td>\n",
       "      <td>-0.966272</td>\n",
       "      <td>-0.185226</td>\n",
       "      <td>1.792993</td>\n",
       "      <td>-0.863291</td>\n",
       "      <td>-0.010309</td>\n",
       "      <td>1.247203</td>\n",
       "      <td>0.237609</td>\n",
       "      <td>0.377436</td>\n",
       "      <td>-1.387024</td>\n",
       "      <td>...</td>\n",
       "      <td>-0.108300</td>\n",
       "      <td>0.005274</td>\n",
       "      <td>-0.190321</td>\n",
       "      <td>-1.175575</td>\n",
       "      <td>0.647376</td>\n",
       "      <td>-0.221929</td>\n",
       "      <td>0.062723</td>\n",
       "      <td>0.061458</td>\n",
       "      <td>123.50</td>\n",
       "      <td>0</td>\n",
       "    </tr>\n",
       "    <tr>\n",
       "      <th>4</th>\n",
       "      <td>2.0</td>\n",
       "      <td>-1.158233</td>\n",
       "      <td>0.877737</td>\n",
       "      <td>1.548718</td>\n",
       "      <td>0.403034</td>\n",
       "      <td>-0.407193</td>\n",
       "      <td>0.095921</td>\n",
       "      <td>0.592941</td>\n",
       "      <td>-0.270533</td>\n",
       "      <td>0.817739</td>\n",
       "      <td>...</td>\n",
       "      <td>-0.009431</td>\n",
       "      <td>0.798278</td>\n",
       "      <td>-0.137458</td>\n",
       "      <td>0.141267</td>\n",
       "      <td>-0.206010</td>\n",
       "      <td>0.502292</td>\n",
       "      <td>0.219422</td>\n",
       "      <td>0.215153</td>\n",
       "      <td>69.99</td>\n",
       "      <td>0</td>\n",
       "    </tr>\n",
       "  </tbody>\n",
       "</table>\n",
       "<p>5 rows × 31 columns</p>\n",
       "</div>"
      ],
      "text/plain": [
       "   Time        V1        V2        V3        V4        V5        V6        V7  \\\n",
       "0   0.0 -1.359807 -0.072781  2.536347  1.378155 -0.338321  0.462388  0.239599   \n",
       "1   0.0  1.191857  0.266151  0.166480  0.448154  0.060018 -0.082361 -0.078803   \n",
       "2   1.0 -1.358354 -1.340163  1.773209  0.379780 -0.503198  1.800499  0.791461   \n",
       "3   1.0 -0.966272 -0.185226  1.792993 -0.863291 -0.010309  1.247203  0.237609   \n",
       "4   2.0 -1.158233  0.877737  1.548718  0.403034 -0.407193  0.095921  0.592941   \n",
       "\n",
       "         V8        V9  ...       V21       V22       V23       V24       V25  \\\n",
       "0  0.098698  0.363787  ... -0.018307  0.277838 -0.110474  0.066928  0.128539   \n",
       "1  0.085102 -0.255425  ... -0.225775 -0.638672  0.101288 -0.339846  0.167170   \n",
       "2  0.247676 -1.514654  ...  0.247998  0.771679  0.909412 -0.689281 -0.327642   \n",
       "3  0.377436 -1.387024  ... -0.108300  0.005274 -0.190321 -1.175575  0.647376   \n",
       "4 -0.270533  0.817739  ... -0.009431  0.798278 -0.137458  0.141267 -0.206010   \n",
       "\n",
       "        V26       V27       V28  Amount  Class  \n",
       "0 -0.189115  0.133558 -0.021053  149.62      0  \n",
       "1  0.125895 -0.008983  0.014724    2.69      0  \n",
       "2 -0.139097 -0.055353 -0.059752  378.66      0  \n",
       "3 -0.221929  0.062723  0.061458  123.50      0  \n",
       "4  0.502292  0.219422  0.215153   69.99      0  \n",
       "\n",
       "[5 rows x 31 columns]"
      ]
     },
     "execution_count": 289,
     "metadata": {},
     "output_type": "execute_result"
    }
   ],
   "source": [
    "# Read the creditcard.csv file contains transactions made by credit cards in September 2013 by European cardholders\n",
    "df = pd.read_csv(\"creditcard.csv\") \n",
    "df.head()"
   ]
  },
  {
   "cell_type": "code",
   "execution_count": 290,
   "id": "8fe4e93e",
   "metadata": {},
   "outputs": [],
   "source": [
    "Y = df['Class'] # Dependent Feature: This column comprises of two classes \"Fraud\" = Class 1 and \"Normal\" = Class 0 Transactions\n",
    "X = df.drop('Class', axis=1) # Independent Features"
   ]
  },
  {
   "cell_type": "markdown",
   "id": "54e50ac8",
   "metadata": {},
   "source": [
    "Split the Dataset first into train and testing data and then perform the Oversampling approach"
   ]
  },
  {
   "cell_type": "code",
   "execution_count": 291,
   "id": "e452012d",
   "metadata": {},
   "outputs": [],
   "source": [
    "# Split the dataset into train and test split having a ratio of 80:20\n",
    "x_train_over, x_val_over, y_train_over, y_val_over = train_test_split(X, Y,\n",
    "                                                  test_size = .2,\n",
    "                                                  random_state=12)"
   ]
  },
  {
   "cell_type": "code",
   "execution_count": 292,
   "id": "ebb35854",
   "metadata": {},
   "outputs": [],
   "source": [
    "# Perform Oversampling on the training dataset using SMOTE on the minority class (Fraud transaction)\n",
    "from imblearn.over_sampling import SMOTE \n",
    "sm = SMOTE(random_state=12)\n",
    "x_train_res, y_train_res = sm.fit_resample(x_train_over, y_train_over)\n",
    "x_train_over = pd.DataFrame(x_train_res)\n",
    "y_train_over = pd.DataFrame(y_train_res)"
   ]
  },
  {
   "cell_type": "code",
   "execution_count": 293,
   "id": "bb723ec9",
   "metadata": {},
   "outputs": [
    {
     "data": {
      "text/plain": [
       "0.0    227446\n",
       "1.0    227446\n",
       "Name: Class, dtype: int64"
      ]
     },
     "execution_count": 293,
     "metadata": {},
     "output_type": "execute_result"
    }
   ],
   "source": [
    "# Concatenate the oversampled dataset and observe the class distribution in the sampled data\n",
    "frames = (x_train_over,y_train_over)\n",
    "dataset = pd.concat(frames)\n",
    "dataset.Class.value_counts()"
   ]
  },
  {
   "cell_type": "code",
   "execution_count": 294,
   "id": "60e2c097",
   "metadata": {},
   "outputs": [
    {
     "data": {
      "text/plain": [
       "Text(0, 0.5, 'Number of Occurances')"
      ]
     },
     "execution_count": 294,
     "metadata": {},
     "output_type": "execute_result"
    },
    {
     "data": {
      "image/png": "[encoded data removed]",
      "text/plain": [
       "<Figure size 432x288 with 1 Axes>"
      ]
     },
     "metadata": {},
     "output_type": "display_data"
    }
   ],
   "source": [
    "# Plot the distribution of Transactions without balancing the data\n",
    "count_classes = pd.value_counts(dataset['Class'], sort = True)\n",
    "count_classes.plot(kind = 'bar', rot=0)\n",
    "plt.title(\"Transaction class distribution\")\n",
    "plt.xticks(range(2), LABELS)\n",
    "plt.xlabel(\"Class\")\n",
    "plt.ylabel(\"Number of Occurances\")"
   ]
  },
  {
   "cell_type": "markdown",
   "id": "087633a5",
   "metadata": {},
   "source": [
    "We can observe that the dataset is now balanced with 227446 transaction for Normal and Fraud Classes"
   ]
  },
  {
   "cell_type": "code",
   "execution_count": 295,
   "id": "108e3fc3",
   "metadata": {},
   "outputs": [
    {
     "name": "stderr",
     "output_type": "stream",
     "text": [
      "<ipython-input-295-ef6f853b22ac>:3: DataConversionWarning: A column-vector y was passed when a 1d array was expected. Please change the shape of y to (n_samples,), for example using ravel().\n",
      "  clf_rf_over_sample.fit(x_train_over, y_train_over)\n"
     ]
    },
    {
     "data": {
      "text/plain": [
       "RandomForestClassifier()"
      ]
     },
     "execution_count": 295,
     "metadata": {},
     "output_type": "execute_result"
    }
   ],
   "source": [
    "# Train the Random Forest Classifier with the Training data (x_train and y_train)\n",
    "clf_rf_over_sample = RandomForestClassifier()\n",
    "clf_rf_over_sample.fit(x_train_over, y_train_over)"
   ]
  },
  {
   "cell_type": "code",
   "execution_count": 297,
   "id": "70b9ea14",
   "metadata": {},
   "outputs": [
    {
     "name": "stdout",
     "output_type": "stream",
     "text": [
      "99.95611109160492 %\n"
     ]
    }
   ],
   "source": [
    "# Evaluate the model performance using the Accuracy Metric\n",
    "acc_over_sample = accuracy_score(y_val_over, clf_rf_over_sample.predict(x_val_over))\n",
    "print(acc_over_sample * 100, '%')"
   ]
  },
  {
   "cell_type": "markdown",
   "id": "628f3c2d",
   "metadata": {},
   "source": [
    "Accuracy for Oversampling using SMOTE is 99.95% that is similar to the accuracy without balancing\n",
    "\n",
    "But Let's see if we achieve something more from it. \n",
    "Let's look at confusion matrix."
   ]
  },
  {
   "cell_type": "code",
   "execution_count": 298,
   "id": "767b6155",
   "metadata": {},
   "outputs": [
    {
     "name": "stdout",
     "output_type": "stream",
     "text": [
      "[[56859    10]\n",
      " [   15    78]]\n"
     ]
    },
    {
     "data": {
      "image/png": "[encoded data removed]",
      "text/plain": [
       "<Figure size 432x288 with 2 Axes>"
      ]
     },
     "metadata": {},
     "output_type": "display_data"
    }
   ],
   "source": [
    "# Evaluate the model further using Confusion matrix\n",
    "cf_over_sample=confusion_matrix(y_val_over, clf_rf_over_sample.predict(x_val_over), labels=clf_rf_over_sample.classes_)\n",
    "print(cf_over_sample)\n",
    "\n",
    "disp = ConfusionMatrixDisplay(confusion_matrix=cf_over_sample,\n",
    "                            display_labels=clf_rf_over_sample.classes_)\n",
    "disp.plot()\n",
    "plt.show()"
   ]
  },
  {
   "cell_type": "markdown",
   "id": "3b70f759",
   "metadata": {},
   "source": [
    "Where Class = 0 is Normal and Class = 1 is Fraud, thus as we are trying to measure how much our model is able to predict Fraud Transaction therefore, we are considering Fraud as our positive and Normal Transaction as our Negative. \n",
    "\n",
    "TN = True Normal Transaction = 78\n",
    "\n",
    "TP = True Fraud Transaction = 56859\n",
    "\n",
    "FP = False Fraud Transaction = 10\n",
    "\n",
    "FN = False Normal Transaction = 15"
   ]
  },
  {
   "cell_type": "markdown",
   "id": "9bd07f52",
   "metadata": {},
   "source": [
    "From the confusion matrix we can gather that there is not a lot of predictions of the frauds are predicted correctly. But the accuracy is 99.95%. One of the reason for such an Accuracy Paradox situation might be the oversampling of minority class is performed in correctly. Further observing dataset after oversampling most of the rows are having NaN values. This might be one of the reason for bad Accuracy of the model."
   ]
  },
  {
   "cell_type": "code",
   "execution_count": 299,
   "id": "56f71376",
   "metadata": {},
   "outputs": [
    {
     "name": "stdout",
     "output_type": "stream",
     "text": [
      "88.63636363636364 %\n"
     ]
    }
   ],
   "source": [
    "# Evaluate the model for Precision Score\n",
    "from sklearn.metrics import precision_score\n",
    "precision_score_over_sample = precision_score(y_val_over, clf_rf_over_sample.predict(x_val_over))\n",
    "print(precision_score_over_sample*100, '%')"
   ]
  },
  {
   "cell_type": "code",
   "execution_count": 300,
   "id": "dd805b88",
   "metadata": {},
   "outputs": [
    {
     "name": "stdout",
     "output_type": "stream",
     "text": [
      "83.87096774193549 %\n"
     ]
    }
   ],
   "source": [
    "# Evaluate the model for Recall Score\n",
    "from sklearn.metrics import recall_score\n",
    "recall_score_over_sample = recall_score(y_val_over, clf_rf_over_sample.predict(x_val_over))\n",
    "print(recall_score_over_sample*100, '%')"
   ]
  },
  {
   "cell_type": "code",
   "execution_count": 301,
   "id": "1c45c6ea",
   "metadata": {},
   "outputs": [
    {
     "name": "stdout",
     "output_type": "stream",
     "text": [
      "------Over Sampling--------\n",
      "So, Accuracy =  99.95611109160492 %\n",
      "Precision score =  88.63636363636364 %\n",
      "Recall =  83.87096774193549 %\n"
     ]
    }
   ],
   "source": [
    "print(\"------Over Sampling--------\")\n",
    "print('So, Accuracy = ' , acc_over_sample*100, '%')\n",
    "print('Precision score = ', precision_score_over_sample*100, '%') \n",
    "print('Recall = ', recall_score_over_sample*100, '%')"
   ]
  },
  {
   "cell_type": "code",
   "execution_count": 303,
   "id": "cb068fb7",
   "metadata": {},
   "outputs": [
    {
     "name": "stdout",
     "output_type": "stream",
     "text": [
      "True Normal Transactions: 56859\n",
      "True Fraud Transactions: 78\n",
      "False Normal Transaction: 15\n",
      "False Fraud Transactions: 10\n",
      "--------------------------------------------------\n",
      "Accuracy: 1.0\n",
      "Mis-Classification: 0.0\n",
      "Sensitivity: 0.84\n",
      "Specificity: 1.0\n",
      "Precision: 0.89\n",
      "f_1 Score: 0.86\n"
     ]
    }
   ],
   "source": [
    "TN = cf_over_sample[0][0]\n",
    "TP = cf_over_sample[1][1]\n",
    "FP = cf_over_sample[0][1]\n",
    "FN = cf_over_sample[1][0]\n",
    "print('True Normal Transactions:', TN)\n",
    "print('True Fraud Transactions:', TP)\n",
    "print('False Normal Transaction:', FN)\n",
    "print('False Fraud Transactions:', FP)\n",
    "\n",
    "# Calculate Accuracy\n",
    "conf_accuracy_over_sample = (float (TP+TN) / float(TP + TN + FP + FN))\n",
    "\n",
    "# Calculate Mis-Classification: What percentage of the values were mis-classified by the model\n",
    "conf_misclassification_over_sample = 1 - conf_accuracy_over_sample\n",
    "\n",
    "# Calculate the Sensitivity or Recall, i.e., Out of Normal transaction predicted by model how many actually resembles the Normal transaction in ground truth\n",
    "conf_sensitivity_over_sample = (TP / float(TP + FN))\n",
    "\n",
    "# Calculate the Specificity or True Negative Rate\n",
    "conf_specificity_over_sample = (TN / float(TN + FP))\n",
    "\n",
    "# Calculate Precision, i.e., How precisely model predicted the normal transactions\n",
    "conf_precision_over_sample = (TP / float(TP + FP))\n",
    "\n",
    "# Calculate f_1 score\n",
    "conf_f1_over_sample = 2 * ((conf_precision_over_sample * conf_sensitivity_over_sample) / (conf_precision_over_sample + conf_sensitivity_over_sample))\n",
    "\n",
    "print('-'*50)\n",
    "print(f'Accuracy: {round(conf_accuracy_over_sample,2)}') \n",
    "print(f'Mis-Classification: {round(conf_misclassification_over_sample,2)}') \n",
    "print(f'Sensitivity: {round(conf_sensitivity_over_sample,2)}') \n",
    "print(f'Specificity: {round(conf_specificity_over_sample,2)}') \n",
    "print(f'Precision: {round(conf_precision_over_sample,2)}')\n",
    "print(f'f_1 Score: {round(conf_f1_over_sample,2)}')"
   ]
  },
  {
   "cell_type": "code",
   "execution_count": 305,
   "id": "e262473c",
   "metadata": {},
   "outputs": [
    {
     "name": "stdout",
     "output_type": "stream",
     "text": [
      "------No Sampling--------\n",
      "So, Accuracy =  99.96488887328394 %\n",
      "Precision score =  97.40259740259741 %\n",
      "Recall =  80.64516129032258 %\n",
      "-------------------------\n",
      "------Under Sampling--------\n",
      "So, Accuracy =  94.9238578680203 %\n",
      "Precision score =  98.95833333333334 %\n",
      "Recall =  91.34615384615384 %\n",
      "-------------------------\n",
      "------Over Sampling--------\n",
      "So, Accuracy =  99.95611109160492 %\n",
      "Precision score =  88.63636363636364 %\n",
      "Recall =  83.87096774193549 %\n",
      "-------------------------\n"
     ]
    }
   ],
   "source": [
    "print(\"------No Sampling--------\")\n",
    "print('So, Accuracy = ' , acc_no_sample*100, '%')\n",
    "print('Precision score = ', precision_score_no_sample*100, '%') \n",
    "print('Recall = ', recall_score_no_sample*100, '%')\n",
    "\n",
    "print(\"-------------------------\")\n",
    "print(\"------Under Sampling--------\")\n",
    "print('So, Accuracy = ' , acc_under_sample*100, '%')\n",
    "print('Precision score = ', precision_score_under_sample*100, '%') \n",
    "print('Recall = ', recall_score_under_sample*100, '%')\n",
    "\n",
    "print(\"-------------------------\")\n",
    "print(\"------Over Sampling--------\")\n",
    "print('So, Accuracy = ' , acc_over_sample*100, '%')\n",
    "print('Precision score = ', precision_score_over_sample*100, '%') \n",
    "print('Recall = ', recall_score_over_sample*100, '%')\n",
    "print(\"-------------------------\")\n"
   ]
  },
  {
   "cell_type": "markdown",
   "id": "4a94c462",
   "metadata": {},
   "source": [
    "<table>\n",
    "<tr>\n",
    "<td>Measure</td>   \n",
    "<td>No Sample</td>\n",
    "<td>Random Under Sample</td>\n",
    "<td>SMOTE Over Sample</td>\n",
    "\n",
    "</tr>\n",
    "<tr>\n",
    "<td>Accuracy </td>\n",
    "<td>99.96%</td>\n",
    "<td>94.92%</td>\n",
    "<td>99.95%</td>\n",
    "</tr>    \n",
    "\n",
    "<tr>\n",
    "<td>Precision </td>\n",
    "<td>97.40%</td>\n",
    "<td>98.95%</td>\n",
    "<td>91.34%</td>\n",
    "</tr>    \n",
    "<tr>\n",
    "<td>Recall </td>\n",
    "<td>80.64%</td>\n",
    "<td>0.9840</td>\n",
    "<td>83.87%</td>\n",
    "</tr>  \n",
    "</table>"
   ]
  },
  {
   "cell_type": "markdown",
   "id": "2b45bb17",
   "metadata": {},
   "source": [
    "### Note: \n",
    "Balancing must be performed after the train, test split. However, for Under Sampling one must make sure that the percentage of the imbalance of the dataset present in original dataset MUST be present in the training dataset."
   ]
  }
 ],
 "metadata": {
  "kernelspec": {
   "display_name": "Python 3.8.2 64-bit",
   "language": "python",
   "name": "python3"
  },
  "language_info": {
   "codemirror_mode": {
    "name": "ipython",
    "version": 3
   },
   "file_extension": ".py",
   "mimetype": "text/x-python",
   "name": "python",
   "nbconvert_exporter": "python",
   "pygments_lexer": "ipython3",
   "version": "3.8.2"
  },
  "vscode": {
   "interpreter": {
    "hash": "aee8b7b246df8f9039afb4144a1f6fd8d2ca17a180786b69acc140d282b71a49"
   }
  }
 },
 "nbformat": 4,
 "nbformat_minor": 5
}
